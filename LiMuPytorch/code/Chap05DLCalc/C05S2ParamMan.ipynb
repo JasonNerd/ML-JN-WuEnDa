{
 "cells": [
  {
   "cell_type": "markdown",
   "id": "c747d3fc",
   "metadata": {},
   "source": [
    "# 第2节-参数管理\n",
    "本节的主题是：\n",
    "1. 如何访问模型的参数，以便读取和存储，以及当遇到复杂的嵌套结构时应该怎么做？\n",
    "2. 如何初始化模型的参数？\n",
    "3. 层间的参数共享是什么？有什么意义？"
   ]
  },
  {
   "cell_type": "markdown",
   "id": "17550a09",
   "metadata": {},
   "source": [
    "---\n",
    "参数访问"
   ]
  },
  {
   "cell_type": "code",
   "execution_count": 15,
   "id": "9203469d",
   "metadata": {},
   "outputs": [
    {
     "data": {
      "text/plain": [
       "(MyMLPa(\n",
       "   (h): Linear(in_features=3, out_features=4, bias=True)\n",
       "   (o): Linear(in_features=4, out_features=3, bias=True)\n",
       " ),\n",
       " torch.Size([4, 3]))"
      ]
     },
     "execution_count": 15,
     "metadata": {},
     "output_type": "execute_result"
    }
   ],
   "source": [
    "import torch\n",
    "from torch import nn\n",
    "from torch.nn import functional as F\n",
    "# 如下实现了一个单层感知机, 接下来以他为例展示参数的访问\n",
    "class MyMLPa(nn.Module):\n",
    "    def __init__(self, ni, no, nh=32):\n",
    "        super().__init__()\n",
    "        self.h = nn.Linear(ni, nh)\n",
    "        self.o = nn.Linear(nh, no)\n",
    "    def forward(self, X):\n",
    "        return self.o(F.relu(self.h(X)))\n",
    "\n",
    "mlpA = MyMLPa(3, 3, nh=4)\n",
    "iX = torch.tensor([[1, 2, 3], [2.0, 1, 3], [2.1, 1, 3], [3.2, 2.1, 1.3]])\n",
    "mlpA, iX.shape"
   ]
  },
  {
   "cell_type": "code",
   "execution_count": 16,
   "id": "4b4656e4",
   "metadata": {},
   "outputs": [
    {
     "data": {
      "text/plain": [
       "tensor([[-0.2523,  0.6922,  0.5877],\n",
       "        [ 0.0197,  0.9616,  0.9022],\n",
       "        [ 0.0315,  0.9780,  0.9096],\n",
       "        [-0.2641,  0.9209,  0.2576]], grad_fn=<AddmmBackward0>)"
      ]
     },
     "execution_count": 16,
     "metadata": {},
     "output_type": "execute_result"
    }
   ],
   "source": [
    "mlpA(iX)"
   ]
  },
  {
   "cell_type": "markdown",
   "id": "1d7e388d",
   "metadata": {},
   "source": [
    "`state_dict`参数字典"
   ]
  },
  {
   "cell_type": "code",
   "execution_count": 17,
   "id": "1eaa25b4",
   "metadata": {},
   "outputs": [
    {
     "data": {
      "text/plain": [
       "OrderedDict([('h.weight',\n",
       "              tensor([[ 0.0006,  0.0582, -0.4792],\n",
       "                      [-0.1380, -0.2754, -0.4258],\n",
       "                      [ 0.2937, -0.3733,  0.3648],\n",
       "                      [ 0.1505,  0.1432, -0.2363]])),\n",
       "             ('h.bias', tensor([-0.4956, -0.4062, -0.2216,  0.5224])),\n",
       "             ('o.weight',\n",
       "              tensor([[ 0.1579, -0.0702,  0.4078, -0.0096],\n",
       "                      [ 0.1069, -0.1516,  0.4004,  0.3122],\n",
       "                      [ 0.2654, -0.0182,  0.4762, -0.4345]])),\n",
       "             ('o.bias', tensor([-0.4211,  0.4459,  0.4965]))])"
      ]
     },
     "execution_count": 17,
     "metadata": {},
     "output_type": "execute_result"
    }
   ],
   "source": [
    "mlpAparamDict = mlpA.state_dict()\n",
    "mlpAparamDict #OrderedDict"
   ]
  },
  {
   "cell_type": "code",
   "execution_count": 18,
   "id": "b8913858",
   "metadata": {},
   "outputs": [
    {
     "data": {
      "text/plain": [
       "odict_keys(['h.weight', 'h.bias', 'o.weight', 'o.bias'])"
      ]
     },
     "execution_count": 18,
     "metadata": {},
     "output_type": "execute_result"
    }
   ],
   "source": [
    "mlpAparamDict.keys()"
   ]
  },
  {
   "cell_type": "code",
   "execution_count": 19,
   "id": "7eb3095e",
   "metadata": {},
   "outputs": [
    {
     "data": {
      "text/plain": [
       "tensor([-0.4956, -0.4062, -0.2216,  0.5224])"
      ]
     },
     "execution_count": 19,
     "metadata": {},
     "output_type": "execute_result"
    }
   ],
   "source": [
    "mlpAparamDict['h.bias'] # 这就访问到了mlpA的h层的bias数据"
   ]
  },
  {
   "cell_type": "code",
   "execution_count": 20,
   "id": "2501821d",
   "metadata": {},
   "outputs": [
    {
     "data": {
      "text/plain": [
       "tensor([-0.4956, -0.4062, -0.2216,  0.5224])"
      ]
     },
     "execution_count": 20,
     "metadata": {},
     "output_type": "execute_result"
    }
   ],
   "source": [
    "# 另一种方法 -> 使用 . 操作符不断向下搜寻\n",
    "mlpA.h.bias.data"
   ]
  },
  {
   "cell_type": "code",
   "execution_count": 21,
   "id": "ea6daf94",
   "metadata": {},
   "outputs": [
    {
     "data": {
      "text/plain": [
       "True"
      ]
     },
     "execution_count": 21,
     "metadata": {},
     "output_type": "execute_result"
    }
   ],
   "source": [
    "# 访问grad\n",
    "mlpA.o.weight.grad == None # 没有输出表示为None"
   ]
  },
  {
   "cell_type": "code",
   "execution_count": 22,
   "id": "0ced2f31",
   "metadata": {},
   "outputs": [
    {
     "name": "stdout",
     "output_type": "stream",
     "text": [
      "('h.weight', torch.Size([4, 3])) ('h.bias', torch.Size([4])) ('o.weight', torch.Size([3, 4])) ('o.bias', torch.Size([3]))\n"
     ]
    }
   ],
   "source": [
    "# 遍历所有参数\n",
    "print(*[(name, param.shape) for name, param in mlpA.named_parameters()])"
   ]
  },
  {
   "cell_type": "markdown",
   "id": "50ce7459",
   "metadata": {},
   "source": [
    "----\n",
    "参数初始化, 使用`init_func+module.apply(init_func)`模式, 其中\n",
    "```\n",
    "init_func(m):\n",
    "    if type(m) == XMode:\n",
    "        xxx\n",
    "    if ...\n",
    "```"
   ]
  },
  {
   "cell_type": "code",
   "execution_count": 23,
   "id": "454a3fd9",
   "metadata": {},
   "outputs": [
    {
     "data": {
      "text/plain": [
       "tensor([0.0100, 0.0100, 0.0100, 0.0100])"
      ]
     },
     "execution_count": 23,
     "metadata": {},
     "output_type": "execute_result"
    }
   ],
   "source": [
    "def init_normal(m):\n",
    "    if type(m) == nn.Linear:\n",
    "        nn.init.normal_(m.weight, mean=0, std=0.01)\n",
    "        nn.init.constant_(m.bias, 0.01)\n",
    "        # nn.init.zeros_(m.bias) # 一般情况是这样\n",
    "mlpA.apply(init_normal)\n",
    "mlpA.h.bias.data"
   ]
  },
  {
   "cell_type": "code",
   "execution_count": 25,
   "id": "43eca142",
   "metadata": {},
   "outputs": [
    {
     "data": {
      "text/plain": [
       "(Parameter containing:\n",
       " tensor([[-0.7708,  0.1171,  0.7692],\n",
       "         [ 1.1842, -0.2726, -0.2774],\n",
       "         [-0.1519,  0.5423, -0.1488],\n",
       "         [ 0.4153,  0.4740,  0.4213]], requires_grad=True),\n",
       " tensor([[-0.0163,  0.0007,  0.0018,  0.0189],\n",
       "         [ 0.0045,  0.0079, -0.0093,  0.0057],\n",
       "         [ 0.0024, -0.0155, -0.0043,  0.0111]]))"
      ]
     },
     "execution_count": 25,
     "metadata": {},
     "output_type": "execute_result"
    }
   ],
   "source": [
    "def init_xvaier(m):\n",
    "    if type(m) == nn.Linear:\n",
    "        nn.init.xavier_normal_(m.weight)\n",
    "mlpA.h.apply(init_xvaier)\n",
    "mlpA.o.apply(init_normal)\n",
    "mlpA.h.weight, mlpA.o.weight.data"
   ]
  },
  {
   "cell_type": "markdown",
   "id": "0e6c77dd",
   "metadata": {},
   "source": [
    "当然你可以直接访问m.weight.data并对其修改(初始化)"
   ]
  },
  {
   "cell_type": "markdown",
   "id": "ef24cf9d",
   "metadata": {},
   "source": [
    "---\n",
    "参数共享, 方法是在不同的层共享同一个组件, 这样做带来什么影响？"
   ]
  },
  {
   "cell_type": "code",
   "execution_count": 27,
   "id": "5878a1eb",
   "metadata": {},
   "outputs": [
    {
     "name": "stdout",
     "output_type": "stream",
     "text": [
      "Sequential(\n",
      "  (0): MyMLPa(\n",
      "    (h): Linear(in_features=3, out_features=4, bias=True)\n",
      "    (o): Linear(in_features=4, out_features=3, bias=True)\n",
      "  )\n",
      "  (1): ReLU()\n",
      "  (2): MyMLPa(\n",
      "    (h): Linear(in_features=3, out_features=4, bias=True)\n",
      "    (o): Linear(in_features=4, out_features=3, bias=True)\n",
      "  )\n",
      "  (3): ReLU()\n",
      "  (4): Linear(in_features=3, out_features=4, bias=True)\n",
      ")\n"
     ]
    }
   ],
   "source": [
    "# mlpA: 3 -> 4 -> 3, \n",
    "net = nn.Sequential(mlpA, nn.ReLU(), mlpA, nn.ReLU(), nn.Linear(3, 4))\n",
    "print(net)"
   ]
  },
  {
   "cell_type": "code",
   "execution_count": 28,
   "id": "6f2a3767",
   "metadata": {},
   "outputs": [
    {
     "data": {
      "text/plain": [
       "tensor([[True, True, True],\n",
       "        [True, True, True],\n",
       "        [True, True, True],\n",
       "        [True, True, True]])"
      ]
     },
     "execution_count": 28,
     "metadata": {},
     "output_type": "execute_result"
    }
   ],
   "source": [
    "# net[0]和net[2]是同一个组件\n",
    "net[0].h.weight.data == net[2].h.weight.data"
   ]
  },
  {
   "cell_type": "code",
   "execution_count": 29,
   "id": "fe242d91",
   "metadata": {},
   "outputs": [
    {
     "data": {
      "text/plain": [
       "tensor([[-0.7708,  0.1171,  0.7692],\n",
       "        [ 1.1842, -0.2726, -0.2774],\n",
       "        [-0.1519,  0.5423, -0.1488],\n",
       "        [ 0.4153,  0.4740,  0.4213]])"
      ]
     },
     "execution_count": 29,
     "metadata": {},
     "output_type": "execute_result"
    }
   ],
   "source": [
    "# 打印net[2].h.weight.data\n",
    "net[2].h.weight.data"
   ]
  },
  {
   "cell_type": "code",
   "execution_count": 30,
   "id": "57f1bb9b",
   "metadata": {},
   "outputs": [
    {
     "data": {
      "text/plain": [
       "(tensor([[ 0.1038, -0.3065, -1.0523],\n",
       "         [-1.0332,  0.8989,  0.2749],\n",
       "         [-0.2488, -0.2872,  0.3212],\n",
       "         [ 0.2005, -0.7189,  0.5312]]),\n",
       " tensor([[True, True, True],\n",
       "         [True, True, True],\n",
       "         [True, True, True],\n",
       "         [True, True, True]]))"
      ]
     },
     "execution_count": 30,
     "metadata": {},
     "output_type": "execute_result"
    }
   ],
   "source": [
    "# 修改net[0].h.weight.data\n",
    "net[0].apply(init_xvaier)\n",
    "net[2].h.weight.data, net[0].h.weight.data == net[2].h.weight.data"
   ]
  },
  {
   "cell_type": "code",
   "execution_count": null,
   "id": "e93ceb3d",
   "metadata": {},
   "outputs": [],
   "source": [
    "# 以上结果说明了参数共享, 这一现象有什么意义或者影响呢?"
   ]
  }
 ],
 "metadata": {
  "kernelspec": {
   "display_name": "Python 3 (ipykernel)",
   "language": "python",
   "name": "python3"
  },
  "language_info": {
   "codemirror_mode": {
    "name": "ipython",
    "version": 3
   },
   "file_extension": ".py",
   "mimetype": "text/x-python",
   "name": "python",
   "nbconvert_exporter": "python",
   "pygments_lexer": "ipython3",
   "version": "3.8.13"
  }
 },
 "nbformat": 4,
 "nbformat_minor": 5
}
