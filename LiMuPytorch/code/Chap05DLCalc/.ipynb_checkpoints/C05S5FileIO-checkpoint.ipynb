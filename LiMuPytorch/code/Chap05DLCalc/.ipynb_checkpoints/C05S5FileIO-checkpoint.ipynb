{
 "cells": [
  {
   "cell_type": "markdown",
   "id": "c21869fd",
   "metadata": {},
   "source": [
    "# 保存和加载模型"
   ]
  },
  {
   "cell_type": "code",
   "execution_count": 9,
   "id": "cf26371c",
   "metadata": {},
   "outputs": [],
   "source": [
    "import torch\n",
    "from torch import nn\n",
    "from torch.nn import functional as F\n",
    "\n",
    "class MyMLP(nn.Module):\n",
    "    def __init__(self, i, o, h):\n",
    "        super().__init__()\n",
    "        self.hidden = nn.Linear(i, h)\n",
    "        self.output = nn.Linear(h, o)\n",
    "    \n",
    "    def forward(self, X):\n",
    "        return self.output(F.relu(self.hidden(X)))\n",
    "\n",
    "net1 = MyMLP(4, 5, 32)\n",
    "aX = torch.randn(5, 4)\n",
    "ay = net1(aX)"
   ]
  },
  {
   "cell_type": "code",
   "execution_count": 10,
   "id": "3bd16dcb",
   "metadata": {},
   "outputs": [
    {
     "data": {
      "text/plain": [
       "MyMLP(\n",
       "  (hidden): Linear(in_features=4, out_features=32, bias=True)\n",
       "  (output): Linear(in_features=32, out_features=5, bias=True)\n",
       ")"
      ]
     },
     "execution_count": 10,
     "metadata": {},
     "output_type": "execute_result"
    }
   ],
   "source": [
    "net1"
   ]
  },
  {
   "cell_type": "code",
   "execution_count": 11,
   "id": "7d55a162",
   "metadata": {},
   "outputs": [],
   "source": [
    "torch.save(net1.state_dict(), \"mlp_param\")"
   ]
  },
  {
   "cell_type": "code",
   "execution_count": 12,
   "id": "f6093cc0",
   "metadata": {},
   "outputs": [
    {
     "data": {
      "text/plain": [
       "tensor([[False, False, False, False, False],\n",
       "        [False, False, False, False, False],\n",
       "        [False, False, False, False, False],\n",
       "        [False, False, False, False, False],\n",
       "        [False, False, False, False, False]])"
      ]
     },
     "execution_count": 12,
     "metadata": {},
     "output_type": "execute_result"
    }
   ],
   "source": [
    "net2 = MyMLP(4, 5, 32)\n",
    "by = net2(aX)\n",
    "by == ay"
   ]
  },
  {
   "cell_type": "code",
   "execution_count": 13,
   "id": "cb049e1d",
   "metadata": {},
   "outputs": [
    {
     "data": {
      "text/plain": [
       "tensor([[True, True, True, True, True],\n",
       "        [True, True, True, True, True],\n",
       "        [True, True, True, True, True],\n",
       "        [True, True, True, True, True],\n",
       "        [True, True, True, True, True]])"
      ]
     },
     "execution_count": 13,
     "metadata": {},
     "output_type": "execute_result"
    }
   ],
   "source": [
    "net2.load_state_dict(torch.load(\"mlp_param\"))\n",
    "cy = net2(aX)\n",
    "ay == cy"
   ]
  },
  {
   "cell_type": "code",
   "execution_count": null,
   "id": "77baa129",
   "metadata": {},
   "outputs": [],
   "source": []
  }
 ],
 "metadata": {
  "kernelspec": {
   "display_name": "Python 3 (ipykernel)",
   "language": "python",
   "name": "python3"
  },
  "language_info": {
   "codemirror_mode": {
    "name": "ipython",
    "version": 3
   },
   "file_extension": ".py",
   "mimetype": "text/x-python",
   "name": "python",
   "nbconvert_exporter": "python",
   "pygments_lexer": "ipython3",
   "version": "3.8.13"
  }
 },
 "nbformat": 4,
 "nbformat_minor": 5
}
