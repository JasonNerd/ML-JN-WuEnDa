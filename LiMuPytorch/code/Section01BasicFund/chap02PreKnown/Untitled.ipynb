{
 "cells": [
  {
   "cell_type": "markdown",
   "id": "bf2012bf",
   "metadata": {},
   "source": [
    "# 微积分\n",
    " 为了求出曲线形状（比如圆）的面积，古希腊人在这样的形状上刻内接多边形。 为了求出曲线形状（比如圆）的面积，古希腊人在这样的形状上刻内接多边形。事实上，逼近法就是积分（integral calculus）的起源， 我们将在*sec_integral_calculus*中详细描述。 2000多年后，微积分的另一支，微分（$differential$ $calculus$）被发明出来。最终，我们真正关心的是生成一个模型，它能够在从未见过的数据上表现良好。 但“训练”模型只能将模型与我们实际能看到的数据相拟合。 因此，我们可以将拟合模型的任务分解为两个关键问题：\n",
    "* **优化（optimization）**：用模型拟合观测数据的过程；\n",
    "\n",
    "* **泛化（generalization）**：数学原理和实践者的智慧，能够指导我们生成出有效性超出用于训练的数据集本身的模型。"
   ]
  },
  {
   "cell_type": "code",
   "execution_count": null,
   "id": "75a12e99",
   "metadata": {},
   "outputs": [],
   "source": []
  }
 ],
 "metadata": {
  "kernelspec": {
   "display_name": "Python 3 (ipykernel)",
   "language": "python",
   "name": "python3"
  },
  "language_info": {
   "codemirror_mode": {
    "name": "ipython",
    "version": 3
   },
   "file_extension": ".py",
   "mimetype": "text/x-python",
   "name": "python",
   "nbconvert_exporter": "python",
   "pygments_lexer": "ipython3",
   "version": "3.8.13"
  }
 },
 "nbformat": 4,
 "nbformat_minor": 5
}
