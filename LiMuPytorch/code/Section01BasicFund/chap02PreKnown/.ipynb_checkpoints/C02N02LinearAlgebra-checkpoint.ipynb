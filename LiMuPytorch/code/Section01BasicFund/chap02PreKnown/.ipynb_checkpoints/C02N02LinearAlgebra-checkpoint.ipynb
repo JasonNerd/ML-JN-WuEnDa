{
 "cells": [
  {
   "cell_type": "markdown",
   "id": "81a79971",
   "metadata": {},
   "source": [
    "# 2.2 数据预处理\n",
    "将数据读写到文件<==>与tensor的相互转换"
   ]
  },
  {
   "cell_type": "code",
   "execution_count": 2,
   "id": "3df75e5c",
   "metadata": {},
   "outputs": [],
   "source": [
    "import os\n",
    "\n",
    "os.makedirs(os.path.join('.', 'data'), exist_ok=True)\n",
    "data_file = os.path.join('.', 'data', 'house_tiny.csv')\n",
    "with open(data_file, 'w') as f:\n",
    "    f.write('NumRooms,Alley,Price\\n')  # 列名\n",
    "    f.write('NA,Pave,127500\\n')  # 每行表示一个数据样本\n",
    "    f.write('2,NA,106000\\n')\n",
    "    f.write('4,NA,178100\\n')\n",
    "    f.write('NA,NA,140000\\n')"
   ]
  },
  {
   "cell_type": "code",
   "execution_count": 3,
   "id": "43d57675",
   "metadata": {},
   "outputs": [
    {
     "data": {
      "text/html": [
       "<div>\n",
       "<style scoped>\n",
       "    .dataframe tbody tr th:only-of-type {\n",
       "        vertical-align: middle;\n",
       "    }\n",
       "\n",
       "    .dataframe tbody tr th {\n",
       "        vertical-align: top;\n",
       "    }\n",
       "\n",
       "    .dataframe thead th {\n",
       "        text-align: right;\n",
       "    }\n",
       "</style>\n",
       "<table border=\"1\" class=\"dataframe\">\n",
       "  <thead>\n",
       "    <tr style=\"text-align: right;\">\n",
       "      <th></th>\n",
       "      <th>NumRooms</th>\n",
       "      <th>Alley</th>\n",
       "      <th>Price</th>\n",
       "    </tr>\n",
       "  </thead>\n",
       "  <tbody>\n",
       "    <tr>\n",
       "      <th>0</th>\n",
       "      <td>NaN</td>\n",
       "      <td>Pave</td>\n",
       "      <td>127500</td>\n",
       "    </tr>\n",
       "    <tr>\n",
       "      <th>1</th>\n",
       "      <td>2.0</td>\n",
       "      <td>NaN</td>\n",
       "      <td>106000</td>\n",
       "    </tr>\n",
       "    <tr>\n",
       "      <th>2</th>\n",
       "      <td>4.0</td>\n",
       "      <td>NaN</td>\n",
       "      <td>178100</td>\n",
       "    </tr>\n",
       "    <tr>\n",
       "      <th>3</th>\n",
       "      <td>NaN</td>\n",
       "      <td>NaN</td>\n",
       "      <td>140000</td>\n",
       "    </tr>\n",
       "  </tbody>\n",
       "</table>\n",
       "</div>"
      ],
      "text/plain": [
       "   NumRooms Alley   Price\n",
       "0       NaN  Pave  127500\n",
       "1       2.0   NaN  106000\n",
       "2       4.0   NaN  178100\n",
       "3       NaN   NaN  140000"
      ]
     },
     "execution_count": 3,
     "metadata": {},
     "output_type": "execute_result"
    }
   ],
   "source": [
    "import pandas as pd\n",
    "data = pd.read_csv(\"data/house_tiny.csv\")\n",
    "data"
   ]
  },
  {
   "cell_type": "markdown",
   "id": "b9c478b4",
   "metadata": {},
   "source": [
    "如上我们创建了一个csv逗号分隔文件，存放了4条记录，每条记录保存了一个房子的房间数量、小巷（Alley），我们使用了pandas.DataFrame这一数据结构保存了这些表格数据。另外，这些数据有些值为NaN，表示数据缺失"
   ]
  },
  {
   "cell_type": "markdown",
   "id": "0b53bf42",
   "metadata": {},
   "source": [
    "## 缺失值处理\n",
    "通常使用均值，例如NumRooms项，又比如Alley只有两种值，推测表示有无小巷，于是转化为Alley_Pave项，用1表示(pave-有)和0表示(没有)。另外我们把它分割为输入和输出"
   ]
  },
  {
   "cell_type": "code",
   "execution_count": 5,
   "id": "26ae4c1e",
   "metadata": {},
   "outputs": [
    {
     "name": "stderr",
     "output_type": "stream",
     "text": [
      "C:\\Users\\mrrai\\AppData\\Local\\Temp\\ipykernel_26636\\3508628120.py:3: FutureWarning: The default value of numeric_only in DataFrame.mean is deprecated. In a future version, it will default to False. In addition, specifying 'numeric_only=None' is deprecated. Select only valid columns or specify the value of numeric_only to silence this warning.\n",
      "  inputs = inputs.fillna(inputs.mean())\n"
     ]
    },
    {
     "data": {
      "text/html": [
       "<div>\n",
       "<style scoped>\n",
       "    .dataframe tbody tr th:only-of-type {\n",
       "        vertical-align: middle;\n",
       "    }\n",
       "\n",
       "    .dataframe tbody tr th {\n",
       "        vertical-align: top;\n",
       "    }\n",
       "\n",
       "    .dataframe thead th {\n",
       "        text-align: right;\n",
       "    }\n",
       "</style>\n",
       "<table border=\"1\" class=\"dataframe\">\n",
       "  <thead>\n",
       "    <tr style=\"text-align: right;\">\n",
       "      <th></th>\n",
       "      <th>NumRooms</th>\n",
       "      <th>Alley_Pave</th>\n",
       "      <th>Alley_nan</th>\n",
       "    </tr>\n",
       "  </thead>\n",
       "  <tbody>\n",
       "    <tr>\n",
       "      <th>0</th>\n",
       "      <td>3.0</td>\n",
       "      <td>1</td>\n",
       "      <td>0</td>\n",
       "    </tr>\n",
       "    <tr>\n",
       "      <th>1</th>\n",
       "      <td>2.0</td>\n",
       "      <td>0</td>\n",
       "      <td>1</td>\n",
       "    </tr>\n",
       "    <tr>\n",
       "      <th>2</th>\n",
       "      <td>4.0</td>\n",
       "      <td>0</td>\n",
       "      <td>1</td>\n",
       "    </tr>\n",
       "    <tr>\n",
       "      <th>3</th>\n",
       "      <td>3.0</td>\n",
       "      <td>0</td>\n",
       "      <td>1</td>\n",
       "    </tr>\n",
       "  </tbody>\n",
       "</table>\n",
       "</div>"
      ],
      "text/plain": [
       "   NumRooms  Alley_Pave  Alley_nan\n",
       "0       3.0           1          0\n",
       "1       2.0           0          1\n",
       "2       4.0           0          1\n",
       "3       3.0           0          1"
      ]
     },
     "execution_count": 5,
     "metadata": {},
     "output_type": "execute_result"
    }
   ],
   "source": [
    "inputs, output = data.iloc[:, 0:2], data.iloc[:, 2]\n",
    "# inputs的NumRooms均值填充\n",
    "inputs = inputs.fillna(inputs.mean())\n",
    "# 使用get_ummies函数\n",
    "inputs = pd.get_dummies(inputs, dummy_na=True)\n",
    "inputs"
   ]
  },
  {
   "cell_type": "markdown",
   "id": "35a2aec4",
   "metadata": {},
   "source": [
    "转为tensor"
   ]
  },
  {
   "cell_type": "code",
   "execution_count": 7,
   "id": "b735db88",
   "metadata": {},
   "outputs": [
    {
     "data": {
      "text/plain": [
       "(tensor([[3., 1., 0.],\n",
       "         [2., 0., 1.],\n",
       "         [4., 0., 1.],\n",
       "         [3., 0., 1.]], dtype=torch.float64),\n",
       " tensor([127500, 106000, 178100, 140000]))"
      ]
     },
     "execution_count": 7,
     "metadata": {},
     "output_type": "execute_result"
    }
   ],
   "source": [
    "import torch\n",
    "X, y = torch.tensor(inputs.values), torch.tensor(output.values)\n",
    "X, y"
   ]
  },
  {
   "cell_type": "markdown",
   "id": "de760427",
   "metadata": {},
   "source": [
    "# 2.3 一些基本的线性代数\n",
    "## 2.3.1 标量\n",
    "标量由只有一个元素的张量表示"
   ]
  },
  {
   "cell_type": "code",
   "execution_count": 8,
   "id": "6ef7d968",
   "metadata": {},
   "outputs": [
    {
     "data": {
      "text/plain": [
       "(tensor(2.), tensor(3.), tensor(5.), tensor(6.))"
      ]
     },
     "execution_count": 8,
     "metadata": {},
     "output_type": "execute_result"
    }
   ],
   "source": [
    "x = torch.tensor(2.0)\n",
    "y = torch.tensor(3.0)\n",
    "x, y, x+y, x*y"
   ]
  },
  {
   "cell_type": "markdown",
   "id": "ddd0f3d5",
   "metadata": {},
   "source": [
    "## 2.3.2向量\n",
    "向量表示数据集中的样本时，它们的值具有一定的现实意义。 例如，如果我们正在训练一个模型来预测贷款违约风险，我们可能会将每个申请人与一个向量相关联， 其分量与其收入、工作年限、过往违约次数和其他因素相对应。在数学表示法中，我们通常将**向量记为粗体、小写的符号**，我们**通过一维张量处理向量**。大量文献认为**列向量是向量的默认方向**，在本书中也是如此"
   ]
  },
  {
   "cell_type": "code",
   "execution_count": 10,
   "id": "8d5c1aad",
   "metadata": {},
   "outputs": [
    {
     "data": {
      "text/plain": [
       "(tensor([0, 1, 2, 3, 4, 5]), tensor(3))"
      ]
     },
     "execution_count": 10,
     "metadata": {},
     "output_type": "execute_result"
    }
   ],
   "source": [
    "x = torch.arange(6)\n",
    "x, x[3]"
   ]
  },
  {
   "cell_type": "markdown",
   "id": "d71baee2",
   "metadata": {},
   "source": [
    "向量的长度通常称为**向量的维度（dimension）**，这可以通过len(), shape, size()等得到.请注意，维度（dimension）这个词在不同上下文时往往会有不同的含义，这经常会使人感到困惑。 为了清楚起见，我们在此明确一下： 向量或轴的维度被用来表示向量或轴的长度，即向量或轴的元素数量。 然而，张量的维度用来表示张量具有的轴数。 在这个意义上，张量的某个轴的维数就是这个轴的长度。"
   ]
  },
  {
   "cell_type": "code",
   "execution_count": 11,
   "id": "9ee13b4d",
   "metadata": {},
   "outputs": [
    {
     "data": {
      "text/plain": [
       "(6, torch.Size([6]), torch.Size([6]))"
      ]
     },
     "execution_count": 11,
     "metadata": {},
     "output_type": "execute_result"
    }
   ],
   "source": [
    "len(x), x.size(), x.shape"
   ]
  },
  {
   "cell_type": "markdown",
   "id": "02e6056b",
   "metadata": {},
   "source": [
    "\n",
    "## 2.3.3矩阵\n",
    "**矩阵，我们通常用粗体、大写字母来表示，在代码中表示为具有两个轴的张量**。当我们交换矩阵的行和列时，结果称为矩阵的转置（transpose）。作为方阵的一种特殊类型，对称矩阵（symmetric matrix）等于其转置。此外，尽管单个向量的默认方向是列向量，但在表示表格数据集的矩阵中， 将每个数据样本作为矩阵中的行向量更为常见。"
   ]
  },
  {
   "cell_type": "code",
   "execution_count": 15,
   "id": "b90f9953",
   "metadata": {},
   "outputs": [
    {
     "data": {
      "text/plain": [
       "(tensor([[0, 1, 2],\n",
       "         [3, 4, 5]]),\n",
       " tensor([[0, 3],\n",
       "         [1, 4],\n",
       "         [2, 5]]))"
      ]
     },
     "execution_count": 15,
     "metadata": {},
     "output_type": "execute_result"
    }
   ],
   "source": [
    "X = torch.arange(6).reshape(2, 3)\n",
    "X, X.T"
   ]
  },
  {
   "cell_type": "markdown",
   "id": "cf8f4223",
   "metadata": {},
   "source": [
    "## 2.3.4 降维--sum\n",
    "默认情况下，调用求和函数sum会沿所有的轴降低张量的维度，使它变为一个标量。 我们还可以指定张量沿哪一个轴来通过求和降低维度。 以矩阵为例，为了通过求和所有行的元素来降维（轴0），我们可以在调用函数时指定axis=0。 由于输入矩阵沿0轴降维以生成输出向量，因此输入轴0的维数在输出形状中消失。"
   ]
  },
  {
   "cell_type": "code",
   "execution_count": 18,
   "id": "638e1656",
   "metadata": {},
   "outputs": [
    {
     "data": {
      "text/plain": [
       "(tensor([[0, 1, 2],\n",
       "         [3, 4, 5]]),\n",
       " tensor(15))"
      ]
     },
     "execution_count": 18,
     "metadata": {},
     "output_type": "execute_result"
    }
   ],
   "source": [
    "X, X.sum()"
   ]
  },
  {
   "cell_type": "code",
   "execution_count": 20,
   "id": "42d311cb",
   "metadata": {},
   "outputs": [
    {
     "data": {
      "text/plain": [
       "(tensor([3, 5, 7]), torch.Size([3]))"
      ]
     },
     "execution_count": 20,
     "metadata": {},
     "output_type": "execute_result"
    }
   ],
   "source": [
    "X_sum_dim0 = X.sum(axis=0)\n",
    "X_sum_dim0, X_sum_dim0.shape"
   ]
  },
  {
   "cell_type": "code",
   "execution_count": 21,
   "id": "59d1dc4b",
   "metadata": {},
   "outputs": [
    {
     "data": {
      "text/plain": [
       "(tensor([ 3, 12]), torch.Size([2]))"
      ]
     },
     "execution_count": 21,
     "metadata": {},
     "output_type": "execute_result"
    }
   ],
   "source": [
    "X_sum_dim1 = X.sum(axis=1)\n",
    "X_sum_dim1, X_sum_dim1.shape"
   ]
  },
  {
   "cell_type": "markdown",
   "id": "265ff583",
   "metadata": {},
   "source": [
    "mean() = sum()/numel() 均值"
   ]
  },
  {
   "cell_type": "code",
   "execution_count": 24,
   "id": "5b7556ca",
   "metadata": {},
   "outputs": [
    {
     "data": {
      "text/plain": [
       "(tensor([[1., 2., 3.],\n",
       "         [4., 5., 6.]]),\n",
       " tensor(3.5000),\n",
       " tensor(3.5000))"
      ]
     },
     "execution_count": 24,
     "metadata": {},
     "output_type": "execute_result"
    }
   ],
   "source": [
    "X = torch.tensor([1.0, 2, 3, 4, 5, 6]).reshape(2, 3)\n",
    "X, X.mean(), X.sum(axis=[0, 1])/X.numel()"
   ]
  },
  {
   "cell_type": "code",
   "execution_count": 25,
   "id": "75c68a2b",
   "metadata": {},
   "outputs": [
    {
     "data": {
      "text/plain": [
       "tensor([2.5000, 3.5000, 4.5000])"
      ]
     },
     "execution_count": 25,
     "metadata": {},
     "output_type": "execute_result"
    }
   ],
   "source": [
    "X.mean(axis=0)"
   ]
  },
  {
   "cell_type": "markdown",
   "id": "12d876d9",
   "metadata": {},
   "source": [
    "非降维求和，求和后仍保持两个维度"
   ]
  },
  {
   "cell_type": "code",
   "execution_count": 26,
   "id": "65d98669",
   "metadata": {},
   "outputs": [
    {
     "data": {
      "text/plain": [
       "tensor([[5., 7., 9.]])"
      ]
     },
     "execution_count": 26,
     "metadata": {},
     "output_type": "execute_result"
    }
   ],
   "source": [
    "X_sum_dim0 = X.sum(axis=0, keepdims=True)\n",
    "X_sum_dim0"
   ]
  },
  {
   "cell_type": "markdown",
   "id": "45996cd4",
   "metadata": {},
   "source": [
    "通过广播机制将求和sum作用于原矩阵"
   ]
  },
  {
   "cell_type": "code",
   "execution_count": 27,
   "id": "fae086e8",
   "metadata": {},
   "outputs": [
    {
     "data": {
      "text/plain": [
       "tensor([[0.2000, 0.2857, 0.3333],\n",
       "        [0.8000, 0.7143, 0.6667]])"
      ]
     },
     "execution_count": 27,
     "metadata": {},
     "output_type": "execute_result"
    }
   ],
   "source": [
    "X/X_sum_dim0"
   ]
  },
  {
   "cell_type": "markdown",
   "id": "96f5fb71",
   "metadata": {},
   "source": [
    "按照相应维度逐个累加"
   ]
  },
  {
   "cell_type": "code",
   "execution_count": 28,
   "id": "d4fc3a19",
   "metadata": {},
   "outputs": [
    {
     "data": {
      "text/plain": [
       "(tensor([[1., 2., 3.],\n",
       "         [4., 5., 6.]]),\n",
       " tensor([[1., 2., 3.],\n",
       "         [5., 7., 9.]]),\n",
       " tensor([[ 1.,  3.,  6.],\n",
       "         [ 4.,  9., 15.]]))"
      ]
     },
     "execution_count": 28,
     "metadata": {},
     "output_type": "execute_result"
    }
   ],
   "source": [
    "X, X.cumsum(axis=0), X.cumsum(axis=1)"
   ]
  },
  {
   "cell_type": "markdown",
   "id": "2973f6fd",
   "metadata": {},
   "source": [
    "## 向量点乘\n",
    "$torch.sum(x*y) or torch.dot(x, y)$"
   ]
  },
  {
   "cell_type": "code",
   "execution_count": 31,
   "id": "c175f458",
   "metadata": {},
   "outputs": [
    {
     "data": {
      "text/plain": [
       "(tensor([0., 1., 2., 3.]),\n",
       " tensor([2., 4., 3., 5.]),\n",
       " tensor([ 0.,  4.,  6., 15.]),\n",
       " tensor(25.),\n",
       " tensor(25.))"
      ]
     },
     "execution_count": 31,
     "metadata": {},
     "output_type": "execute_result"
    }
   ],
   "source": [
    "x = torch.arange(4, dtype=torch.float32)\n",
    "y = torch.tensor([2.0, 4.0, 3.0, 5.0])\n",
    "x, y, x*y, torch.sum(x*y), torch.dot(x, y)"
   ]
  },
  {
   "cell_type": "markdown",
   "id": "c1548a45",
   "metadata": {},
   "source": [
    "## 矩阵-向量积\n",
    "$Ax=b$"
   ]
  },
  {
   "cell_type": "code",
   "execution_count": 34,
   "id": "00b09e19",
   "metadata": {},
   "outputs": [
    {
     "data": {
      "text/plain": [
       "(tensor([[1., 2., 3.],\n",
       "         [4., 5., 6.]]),\n",
       " tensor([2., 1., 3.]),\n",
       " tensor([13., 31.]))"
      ]
     },
     "execution_count": 34,
     "metadata": {},
     "output_type": "execute_result"
    }
   ],
   "source": [
    "A = torch.tensor([1.0, 2, 3, 4, 5, 6]).reshape(2, 3)\n",
    "x = torch.tensor([2.0, 1, 3])\n",
    "b = torch.mv(A, x)\n",
    "A, x, b"
   ]
  },
  {
   "cell_type": "markdown",
   "id": "10b7c821",
   "metadata": {},
   "source": [
    "## 矩阵乘法\n",
    "AB = C"
   ]
  },
  {
   "cell_type": "code",
   "execution_count": 35,
   "id": "73ebbc80",
   "metadata": {},
   "outputs": [
    {
     "data": {
      "text/plain": [
       "(tensor([[1., 2., 3.],\n",
       "         [4., 5., 6.]]),\n",
       " tensor([[1., 2.],\n",
       "         [3., 4.],\n",
       "         [5., 6.]]),\n",
       " tensor([[22., 28.],\n",
       "         [49., 64.]]))"
      ]
     },
     "execution_count": 35,
     "metadata": {},
     "output_type": "execute_result"
    }
   ],
   "source": [
    "A = torch.tensor([1.0, 2, 3, 4, 5, 6]).reshape(2, 3)\n",
    "B = torch.tensor([1.0, 2, 3, 4, 5, 6]).reshape(3, 2)\n",
    "A, B, torch.mm(A, B)"
   ]
  },
  {
   "cell_type": "markdown",
   "id": "723077e2",
   "metadata": {},
   "source": [
    "## 向量范数与矩阵范数\n",
    "一般提到的是2-范数，平方和再开方"
   ]
  },
  {
   "cell_type": "code",
   "execution_count": 36,
   "id": "0c01ec2a",
   "metadata": {},
   "outputs": [
    {
     "data": {
      "text/plain": [
       "(tensor([13., 31.]), tensor(33.6155))"
      ]
     },
     "execution_count": 36,
     "metadata": {},
     "output_type": "execute_result"
    }
   ],
   "source": [
    "b, torch.norm(b)"
   ]
  },
  {
   "cell_type": "code",
   "execution_count": 37,
   "id": "de986fc6",
   "metadata": {},
   "outputs": [
    {
     "data": {
      "text/plain": [
       "(tensor([[1., 2., 3.],\n",
       "         [4., 5., 6.]]),\n",
       " tensor(9.5394))"
      ]
     },
     "execution_count": 37,
     "metadata": {},
     "output_type": "execute_result"
    }
   ],
   "source": [
    "A, torch.norm(A)"
   ]
  },
  {
   "cell_type": "code",
   "execution_count": 39,
   "id": "578712d0",
   "metadata": {},
   "outputs": [
    {
     "data": {
      "text/plain": [
       "tensor(44.)"
      ]
     },
     "execution_count": 39,
     "metadata": {},
     "output_type": "execute_result"
    }
   ],
   "source": [
    "# 1-范数，绝对值之和\n",
    "b.abs().sum()"
   ]
  },
  {
   "cell_type": "code",
   "execution_count": 40,
   "id": "8aa8a2a0",
   "metadata": {},
   "outputs": [
    {
     "data": {
      "text/plain": [
       "tensor(31.)"
      ]
     },
     "execution_count": 40,
     "metadata": {},
     "output_type": "execute_result"
    }
   ],
   "source": [
    "# 无穷范数，绝对值最大值\n",
    "b.abs().max()"
   ]
  }
 ],
 "metadata": {
  "kernelspec": {
   "display_name": "Python 3 (ipykernel)",
   "language": "python",
   "name": "python3"
  },
  "language_info": {
   "codemirror_mode": {
    "name": "ipython",
    "version": 3
   },
   "file_extension": ".py",
   "mimetype": "text/x-python",
   "name": "python",
   "nbconvert_exporter": "python",
   "pygments_lexer": "ipython3",
   "version": "3.8.13"
  }
 },
 "nbformat": 4,
 "nbformat_minor": 5
}
