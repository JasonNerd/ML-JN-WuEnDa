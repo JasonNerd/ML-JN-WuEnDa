{
 "cells": [
  {
   "cell_type": "markdown",
   "id": "111b6495",
   "metadata": {},
   "source": [
    "## 填充和步幅\n",
    "padding(>0) and step(>1)\n",
    "为了使输入输出形状相同可以在四周填充0, 例如原始6x8, 经过3x3的卷积操作得到4x6的输出, 于是可以令p=1, 原始矩阵大小变为8x10, 输出变为6x8  \n",
    "\n",
    "另一方面，如果图像像素冗余度过多, 则可以加大步幅"
   ]
  },
  {
   "cell_type": "code",
   "execution_count": 24,
   "id": "16220288",
   "metadata": {},
   "outputs": [
    {
     "data": {
      "text/plain": [
       "tensor([[  0.,  23.,  65.,  59.],\n",
       "        [126., 366., 438., 294.],\n",
       "        [306., 798., 870., 546.],\n",
       "        [198., 451., 481., 271.]])"
      ]
     },
     "execution_count": 24,
     "metadata": {},
     "output_type": "execute_result"
    }
   ],
   "source": [
    "import torch\n",
    "from torch import nn\n",
    "# 一个卷积操作的函数集合, 卷积核 和 输入 假设总是方阵\n",
    "# 如果指定了same=True, 输入输出形状相同\n",
    "# (此时若仍然指定了p, s等参数, p将失效但s仍然有效)\n",
    "class CovOp:\n",
    "    def __init__(self, p=0, s=1, same=False):\n",
    "        self.p = p\n",
    "        self.s = s\n",
    "        self.same = same\n",
    "        \n",
    "    def corr2d(self, X, K):\n",
    "        # 计算p\n",
    "        m = X.shape[0]\n",
    "        k = K.shape[0]\n",
    "        if self.same:\n",
    "            p2 = (m-1)*self.s+k-m\n",
    "            if p2 % 2 == 0:\n",
    "                self.p = int(p2/2)\n",
    "            else:\n",
    "                self.p = 1+int(p2/2)\n",
    "        # 进行填充\n",
    "        if self.p > 0:\n",
    "            mX = torch.zeros((m+2*self.p, m+2*self.p))\n",
    "            mX[self.p:self.p+m, self.p:self.p+m] = X\n",
    "            X = mX\n",
    "        # 开始卷积操作\n",
    "        o = int((X.shape[0]-k)/self.s)+1\n",
    "        res = torch.zeros(o, o)\n",
    "        for i in range(o):\n",
    "            for j in range(o):\n",
    "                si = i*self.s\n",
    "                sj = j*self.s\n",
    "                res[i, j] = torch.sum(X[si:si+k, sj:sj+k] * K)\n",
    "        return res\n",
    "\n",
    "X = torch.arange(36.0).reshape(6, 6)\n",
    "K = torch.arange(9.0).reshape(3, 3)\n",
    "res = CovOp(p=2, s=2).corr2d(X, K)\n",
    "res"
   ]
  },
  {
   "attachments": {
    "image.png": {
     "image/png": "[encoded data removed]"
    }
   },
   "cell_type": "markdown",
   "id": "691e4790",
   "metadata": {},
   "source": [
    "## 多输入输出的卷积操作\n",
    "1. 多输入单输出\n",
    "![image.png](attachment:image.png)"
   ]
  },
  {
   "cell_type": "code",
   "execution_count": 33,
   "id": "8af3b6e7",
   "metadata": {},
   "outputs": [
    {
     "data": {
      "text/plain": [
       "tensor([[ 56.,  72.],\n",
       "        [104., 120.]])"
      ]
     },
     "execution_count": 33,
     "metadata": {},
     "output_type": "execute_result"
    }
   ],
   "source": [
    "# 实现如上图所示的操作, X和K的第三维度应当是一致的\n",
    "def corr2d(X, K):\n",
    "    m, n = X.shape\n",
    "    res = torch.zeros((m-K.shape[0]+1, n-K.shape[1]+1))\n",
    "    for i in range(res.shape[0]):\n",
    "        for j in range(res.shape[1]):\n",
    "            res[i, j] = torch.sum(X[i:i+K.shape[0], j:j+K.shape[1]]*K)\n",
    "    return res\n",
    "def mul_cov2d(X, K):\n",
    "    # 对X, K的第三维遍历, 并使用原始 corr2d 方法\n",
    "    in_n = X.shape[0]\n",
    "    m, n = X.shape[1], X.shape[2]\n",
    "    res = torch.zeros(m-K.shape[1]+1, n-K.shape[2]+1)\n",
    "    for i in range(in_n):\n",
    "        res[:,:] += corr2d(X[i,:,:],K[i, :,:])\n",
    "    return res\n",
    "\n",
    "X = torch.arange(9.0).reshape(3, 3)\n",
    "X = torch.stack([X, X+1], 0)\n",
    "K = torch.arange(4.0).reshape(2, 2)\n",
    "K = torch.stack([K, K+1], 0)\n",
    "mul_cov2d(X, K)"
   ]
  },
  {
   "attachments": {
    "image.png": {
     "image/png": "[encoded data removed]"
    }
   },
   "cell_type": "markdown",
   "id": "aae50e85",
   "metadata": {},
   "source": [
    "多输入多输出的实现\n",
    "![image.png](attachment:image.png)"
   ]
  },
  {
   "cell_type": "code",
   "execution_count": 34,
   "id": "68f8884c",
   "metadata": {},
   "outputs": [
    {
     "data": {
      "text/plain": [
       "tensor([[[ 56.,  72.],\n",
       "         [104., 120.]],\n",
       "\n",
       "        [[ 76., 100.],\n",
       "         [148., 172.]],\n",
       "\n",
       "        [[ 96., 128.],\n",
       "         [192., 224.]]])"
      ]
     },
     "execution_count": 34,
     "metadata": {},
     "output_type": "execute_result"
    }
   ],
   "source": [
    "# 假设输入是2通道的，但输出增加到3通道\n",
    "X = torch.arange(9.0).reshape(3, 3)\n",
    "X = torch.stack([X, X+1], 0)  # 2x(3x3), \n",
    "K = torch.arange(4.0).reshape(2, 2)\n",
    "K = torch.stack([K, K+1], 0)  # 2x(2x2)\n",
    "# 以上对每一个Xi(3x3)和Ki(2x2)做卷积后得到2个矩阵，把它们加和就得到一个通道的输出\n",
    "K = torch.stack([K, K+1, K+2], 0) # 3x[2x(2x2)], 这里的3即为输出通道\n",
    "# 多输出也即计算3个通道的输出，然后使3成为一个新的维度\n",
    "def multi_inout_corr2d(X, K):\n",
    "    return torch.stack([mul_cov2d(X, k) for k in K])\n",
    "multi_inout_corr2d(X, K)"
   ]
  },
  {
   "cell_type": "code",
   "execution_count": null,
   "id": "35ccb386",
   "metadata": {},
   "outputs": [],
   "source": []
  }
 ],
 "metadata": {
  "kernelspec": {
   "display_name": "Python 3 (ipykernel)",
   "language": "python",
   "name": "python3"
  },
  "language_info": {
   "codemirror_mode": {
    "name": "ipython",
    "version": 3
   },
   "file_extension": ".py",
   "mimetype": "text/x-python",
   "name": "python",
   "nbconvert_exporter": "python",
   "pygments_lexer": "ipython3",
   "version": "3.8.13"
  }
 },
 "nbformat": 4,
 "nbformat_minor": 5
}
