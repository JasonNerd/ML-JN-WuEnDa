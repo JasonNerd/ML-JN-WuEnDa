{
 "cells": [
  {
   "cell_type": "markdown",
   "id": "bef70c6a",
   "metadata": {},
   "source": [
    "# 使用高维线性模型直观感受正则化\n",
    "$$y = 0.05 + \\sum_{i = 1}^d 0.01 x_i + \\epsilon \\text{ where }\n",
    "\\epsilon \\sim \\mathcal{N}(0, 0.01^2).$$"
   ]
  },
  {
   "cell_type": "markdown",
   "id": "3ab73ebb",
   "metadata": {},
   "source": [
    "---\n",
    "特征数量假设为200, 训练样本很小假设为20, 测试样本大小则为100"
   ]
  },
  {
   "cell_type": "code",
   "execution_count": 15,
   "id": "76fe5e4f",
   "metadata": {},
   "outputs": [],
   "source": [
    "import torch\n",
    "from torch.utils import data\n",
    "\n",
    "def syntheticData(w_true, b_true, n, delta=0.01):\n",
    "    X = torch.randn(n, len(w_true))\n",
    "    y = b_true + (X*w_true).sum(dim=1, keepdim=True) + torch.normal(0, delta, size=(n, 1))\n",
    "    return X, y\n",
    "\n",
    "train_n, test_n, num_inputs = 20, 100, 200\n",
    "w_true, b_true = torch.ones(num_inputs)*0.01, 0.05\n",
    "train_X, train_y = syntheticData(w_true, b_true, train_n)\n",
    "test_X, test_y = syntheticData(w_true, b_true, test_n)\n",
    "train_dataset = data.TensorDataset(train_X, train_y)\n",
    "test_dataset = data.TensorDataset(test_X, test_y)\n",
    "batch_size=5\n",
    "train_iter = data.DataLoader(train_dataset, shuffle=True, batch_size=batch_size)\n",
    "test_iter = data.DataLoader(test_dataset, shuffle=False, batch_size=batch_size)\n"
   ]
  },
  {
   "cell_type": "code",
   "execution_count": 16,
   "id": "90785b1d",
   "metadata": {},
   "outputs": [
    {
     "data": {
      "text/plain": [
       "(torch.Size([20, 200]),\n",
       " torch.Size([20, 1]),\n",
       " torch.Size([100, 200]),\n",
       " torch.Size([100, 1]))"
      ]
     },
     "execution_count": 16,
     "metadata": {},
     "output_type": "execute_result"
    }
   ],
   "source": [
    "train_X.shape, train_y.shape, test_X.shape, test_y.shape"
   ]
  },
  {
   "cell_type": "code",
   "execution_count": 30,
   "id": "49eb707b",
   "metadata": {},
   "outputs": [],
   "source": [
    "import sys\n",
    "sys.path.append(\"../\")\n",
    "from MyUtils import d2laiUtils as d2l\n",
    "\n",
    "# 定义线性回归模型\n",
    "def init_params():\n",
    "    w = torch.normal(0, 0.1, size=(num_inputs, 1), requires_grad=True)\n",
    "    b = torch.tensor(0.0, requires_grad=True)\n",
    "    return w, b\n",
    "w, b = init_params()"
   ]
  },
  {
   "cell_type": "code",
   "execution_count": 43,
   "id": "a3c05db0",
   "metadata": {},
   "outputs": [
    {
     "data": {
      "text/plain": [
       "(torch.Size([200, 1]),\n",
       " torch.Size([]),\n",
       " 2.2258413314819334,\n",
       " 0.01073332667350769,\n",
       " 0.08114559173583985)"
      ]
     },
     "execution_count": 43,
     "metadata": {},
     "output_type": "execute_result"
    }
   ],
   "source": [
    "def net(X):\n",
    "    return torch.matmul(X, w)+b\n",
    "def loss(y_hat, y):\n",
    "    return float(torch.pow(y_hat-y.reshape(y_hat.sahpe), 2).sum())/y.shape[0]\n",
    "def l2_penalty(w):\n",
    "    return float(w.pow(2).sum())/w.shape[0]\n",
    "def l1_penalty(w):\n",
    "    return float(w.abs().sum())/w.shape[0]\n",
    "w.shape, b.shape, loss(net(train_X), train_y), l2_penalty(w), l1_penalty(w)"
   ]
  },
  {
   "cell_type": "code",
   "execution_count": 46,
   "id": "3f0b9355",
   "metadata": {},
   "outputs": [
    {
     "data": {
      "text/plain": [
       "(0.4451682758331299, 0.49132686710357676)"
      ]
     },
     "execution_count": 46,
     "metadata": {},
     "output_type": "execute_result"
    }
   ],
   "source": [
    "def lossEvaluate(data_iter, model):\n",
    "    cost, n = 0.0, 0\n",
    "    with torch.no_grad():\n",
    "        for X, y in data_iter:\n",
    "            cost += loss(model(X), y)\n",
    "            n += len(y)\n",
    "    return cost/n\n",
    "lossEvaluate(train_iter, net), lossEvaluate(test_iter, net)"
   ]
  },
  {
   "cell_type": "code",
   "execution_count": 47,
   "id": "9b13d2fe",
   "metadata": {},
   "outputs": [],
   "source": [
    "def sgd(params, batch_size, lr=0.01):\n",
    "    with torch.no_grad():\n",
    "        for param in params:\n",
    "            param -= lr*param.grad/batch_size\n",
    "            param.grad.zero_()\n",
    "\n",
    "def train(train_iter, test_iter, num_epoch=200, lamb=0.0, penalty=l2_penalty):\n",
    "    train_loss, test_loss = []\n",
    "    for epoch in range(num_epoch):\n",
    "        for X, y in train_iter:\n",
    "            l = loss(net(X), y) + lamb*penalty(w)\n",
    "            l.backward()\n",
    "            sgd([w, b], len(y))\n",
    "        train_loss.append(lossEvaluate(train_iter, net))\n",
    "        test_loss.appen(lossEvaluate(test_iter, net))\n",
    "    return train_loss, test_loss"
   ]
  },
  {
   "cell_type": "code",
   "execution_count": 48,
   "id": "775295fe",
   "metadata": {},
   "outputs": [],
   "source": [
    "# 绘图函数\n",
    "from matplotlib import pyplot as plt\n",
    "def lossPrint(train_loss, test_loss):\n",
    "    plt.plot(range(len(train_loss)), train_loss, label=\"train_loss\", linestyle=\":\")\n",
    "    plt.plot(range(len(test_loss)), test_loss, label=\"test_loss\", linestyle=\"--\")\n",
    "    plt.xlabel(\"epoch iter times\")\n",
    "    plt.ylabel(\"loss evaluate\")\n",
    "    plt.legend()\n",
    "    plt.show()"
   ]
  },
  {
   "cell_type": "code",
   "execution_count": null,
   "id": "ae963cb6",
   "metadata": {},
   "outputs": [],
   "source": [
    "# 不使用正则化"
   ]
  }
 ],
 "metadata": {
  "kernelspec": {
   "display_name": "Python 3 (ipykernel)",
   "language": "python",
   "name": "python3"
  },
  "language_info": {
   "codemirror_mode": {
    "name": "ipython",
    "version": 3
   },
   "file_extension": ".py",
   "mimetype": "text/x-python",
   "name": "python",
   "nbconvert_exporter": "python",
   "pygments_lexer": "ipython3",
   "version": "3.8.13"
  }
 },
 "nbformat": 4,
 "nbformat_minor": 5
}
