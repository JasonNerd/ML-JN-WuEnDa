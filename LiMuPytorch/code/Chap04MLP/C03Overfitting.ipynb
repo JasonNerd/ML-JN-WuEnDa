{
 "cells": [
  {
   "cell_type": "markdown",
   "id": "5420d4ec",
   "metadata": {},
   "source": [
    "## 过拟合与欠拟合现象\n",
    "以线性回归模型为基础，拟合目标是$$y = 5 + 1.2x - 3.4\\frac{x^2}{2!} + 5.6 \\frac{x^3}{3!} + \\epsilon \\text{ where }\n",
    "\\epsilon \\sim \\mathcal{N}(0, 0.1^2).$$，实验通过变化不同的迭代次数以及最高幂次来调整模型复杂度，数据集可以自行生成，注意区分训练集和验证集"
   ]
  },
  {
   "cell_type": "code",
   "execution_count": null,
   "id": "f6104374",
   "metadata": {},
   "outputs": [],
   "source": [
    "# 生成模拟数据，训练集100条，验证集100条\n"
   ]
  }
 ],
 "metadata": {
  "kernelspec": {
   "display_name": "Python 3 (ipykernel)",
   "language": "python",
   "name": "python3"
  },
  "language_info": {
   "codemirror_mode": {
    "name": "ipython",
    "version": 3
   },
   "file_extension": ".py",
   "mimetype": "text/x-python",
   "name": "python",
   "nbconvert_exporter": "python",
   "pygments_lexer": "ipython3",
   "version": "3.8.13"
  }
 },
 "nbformat": 4,
 "nbformat_minor": 5
}
