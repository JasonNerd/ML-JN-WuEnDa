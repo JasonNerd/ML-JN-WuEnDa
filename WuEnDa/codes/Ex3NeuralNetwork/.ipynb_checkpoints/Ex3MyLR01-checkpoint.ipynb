{
 "cells": [
  {
   "cell_type": "markdown",
   "id": "41d68af7",
   "metadata": {},
   "source": [
    "# 多分类问题\n",
    "使用对率回归模型解决多分类问题\n",
    "1. one-VS-rest(OvR)\n",
    "    假设有K个类别，则需要训练K个二分类器，例如针对第k个类别的训练，则把其他类均视为负类\n",
    "2. one-VS-one(OvO)\n",
    "    把每一个类拿出来，两两配对，需要训练$\\frac{(K-1)K}{2}$个二分类器"
   ]
  },
  {
   "cell_type": "markdown",
   "id": "451b7b06",
   "metadata": {},
   "source": [
    "* 实验数据是5000张20$\\times$20的灰度图像，则每一张图像是一个400维的向量，也即特征数量是400个，数据集包含5000个样本。灰度图像是手写数字，也即一个10个类别（从0到9）。\n",
    "* 数据存放在.mat文件也即matlab本地文件格式，需要使用scipy包，另外可以将向量转为图像看一下"
   ]
  },
  {
   "cell_type": "code",
   "execution_count": 2,
   "id": "4c2b166b",
   "metadata": {},
   "outputs": [],
   "source": [
    "import numpy as np\n",
    "import pandas as pd\n",
    "import matplotlib.pyplot as plt\n",
    "from scipy.io import loadmat"
   ]
  },
  {
   "cell_type": "code",
   "execution_count": 3,
   "id": "70cf2220",
   "metadata": {},
   "outputs": [
    {
     "data": {
      "text/plain": [
       "{'__header__': b'MATLAB 5.0 MAT-file, Platform: GLNXA64, Created on: Sun Oct 16 13:09:09 2011',\n",
       " '__version__': '1.0',\n",
       " '__globals__': [],\n",
       " 'X': array([[0., 0., 0., ..., 0., 0., 0.],\n",
       "        [0., 0., 0., ..., 0., 0., 0.],\n",
       "        [0., 0., 0., ..., 0., 0., 0.],\n",
       "        ...,\n",
       "        [0., 0., 0., ..., 0., 0., 0.],\n",
       "        [0., 0., 0., ..., 0., 0., 0.],\n",
       "        [0., 0., 0., ..., 0., 0., 0.]]),\n",
       " 'y': array([[10],\n",
       "        [10],\n",
       "        [10],\n",
       "        ...,\n",
       "        [ 9],\n",
       "        [ 9],\n",
       "        [ 9]], dtype=uint8)}"
      ]
     },
     "execution_count": 3,
     "metadata": {},
     "output_type": "execute_result"
    }
   ],
   "source": [
    "data = loadmat('ex3data1.mat')\n",
    "data"
   ]
  },
  {
   "cell_type": "code",
   "execution_count": 4,
   "id": "689ebb1a",
   "metadata": {},
   "outputs": [
    {
     "data": {
      "text/plain": [
       "dict"
      ]
     },
     "execution_count": 4,
     "metadata": {},
     "output_type": "execute_result"
    }
   ],
   "source": [
    "type(data)"
   ]
  },
  {
   "cell_type": "code",
   "execution_count": 5,
   "id": "2152ca96",
   "metadata": {},
   "outputs": [
    {
     "data": {
      "text/plain": [
       "((5000, 400), (5000, 1))"
      ]
     },
     "execution_count": 5,
     "metadata": {},
     "output_type": "execute_result"
    }
   ],
   "source": [
    "X = data['X']\n",
    "y = data['y']\n",
    "X.shape, y.shape"
   ]
  },
  {
   "cell_type": "code",
   "execution_count": 9,
   "id": "5a052c49",
   "metadata": {},
   "outputs": [
    {
     "data": {
      "text/plain": [
       "<matplotlib.image.AxesImage at 0x26f678ce400>"
      ]
     },
     "execution_count": 9,
     "metadata": {},
     "output_type": "execute_result"
    },
    {
     "data": {
      "image/png": "[encoded data removed]",
      "text/plain": [
       "<Figure size 640x480 with 1 Axes>"
      ]
     },
     "metadata": {},
     "output_type": "display_data"
    }
   ],
   "source": [
    "# 将X[0]转为灰度图进行查看\n",
    "img = np.reshape(X[0, :], (20, 20))\n",
    "plt.imshow(img)"
   ]
  },
  {
   "cell_type": "code",
   "execution_count": 14,
   "id": "55ad6f89",
   "metadata": {},
   "outputs": [
    {
     "data": {
      "text/plain": [
       "(5000, 401)"
      ]
     },
     "execution_count": 14,
     "metadata": {},
     "output_type": "execute_result"
    }
   ],
   "source": [
    "# one-vs-rest, X本身是需要插入1的这不会变, 但y需要变一下\n",
    "K = 10 # 输出类别数目\n",
    "m = len(y) # 数据集大小\n",
    "n = X.shape[1] # 特征的数目\n",
    "X = np.matrix(np.insert(X, 0, 1, axis=1)) # 这种insert可以反复多次, 因此注意仅执行一次\n",
    "# X = np.delete(X, 0, axis=1)\n",
    "X.shape"
   ]
  },
  {
   "cell_type": "code",
   "execution_count": 32,
   "id": "1af5742c",
   "metadata": {},
   "outputs": [
    {
     "data": {
      "text/plain": [
       "500.0"
      ]
     },
     "execution_count": 32,
     "metadata": {},
     "output_type": "execute_result"
    }
   ],
   "source": [
    "Y = np.matrix(np.zeros((m, K)))\n",
    "Y[:, 0] = np.matrix([1 if int(i)==10 else 0 for i in y]).T\n",
    "np.sum(Y[:, 0]) # 可见一共有500个0"
   ]
  },
  {
   "cell_type": "code",
   "execution_count": 37,
   "id": "42a82fca",
   "metadata": {},
   "outputs": [],
   "source": [
    "# 接下来是1到9\n",
    "for i in range(1, K):\n",
    "    Y[:, i] = np.matrix([1 if int(j)==i else 0 for j in y]).T\n",
    "# np.sum(Y[:, i]) == 500 (for i=0 to 9)"
   ]
  },
  {
   "cell_type": "code",
   "execution_count": 44,
   "id": "ff5dca32",
   "metadata": {},
   "outputs": [
    {
     "data": {
      "text/plain": [
       "((5000, 401), (5000, 10), (10, 401))"
      ]
     },
     "execution_count": 44,
     "metadata": {},
     "output_type": "execute_result"
    }
   ],
   "source": [
    "# 书写函数\n",
    "# sigmoid\n",
    "def sigmoid(z):\n",
    "    return 1/(1+np.exp(-z))\n",
    "theta = np.matrix(np.zeros((K, X.shape[1])))\n",
    "X.shape, Y.shape, theta.shape"
   ]
  },
  {
   "cell_type": "code",
   "execution_count": 64,
   "id": "fe258c6d",
   "metadata": {},
   "outputs": [
    {
     "data": {
      "text/plain": [
       "0.693147180559947"
      ]
     },
     "execution_count": 64,
     "metadata": {},
     "output_type": "execute_result"
    }
   ],
   "source": [
    "# costFunc\n",
    "def costFunc(theta, X, y, _lambda):\n",
    "    theta = np.matrix(theta)\n",
    "    h_x = sigmoid(X*theta.T)\n",
    "    normal = (1/m)*float(-y.T*np.log(h_x)-(1-y.T)*np.log(1-h_x))\n",
    "    reg = (_lambda/2*m)*float(theta*theta.T)\n",
    "    return normal+reg\n",
    "costFunc(theta[0, :], X, Y[:, 0], 1)"
   ]
  },
  {
   "cell_type": "code",
   "execution_count": 65,
   "id": "b63c3af5",
   "metadata": {},
   "outputs": [],
   "source": [
    "def gradient(theta, X, y, _lambda):\n",
    "    theta = np.matrix(theta)\n",
    "    h_x = sigmoid(X*theta.T)\n",
    "    err = h_x-y\n",
    "    d_reg = _lambda*theta.T\n",
    "    d_reg[0]=0\n",
    "    return (X.T*err+d_reg).T/m\n",
    "# t_theta = np.matrix(np.ones(X.shape[1]))\n",
    "# gradient(t_theta, X, Y[:, 0], 0.8)"
   ]
  },
  {
   "cell_type": "code",
   "execution_count": 71,
   "id": "d6221916",
   "metadata": {},
   "outputs": [],
   "source": [
    "from scipy import optimize as opt\n",
    "def train(X, Y, theta, _lambda):\n",
    "    res = []\n",
    "    for i in range(K):\n",
    "        thetai = theta[i, :]\n",
    "        yi = Y[:, i]\n",
    "        res.append(opt.fmin_tnc(\n",
    "            func=costFunc, \n",
    "            fprime=gradient, \n",
    "            x0=thetai, \n",
    "            args=(X, yi, _lambda)\n",
    "        ))\n",
    "    return res"
   ]
  },
  {
   "cell_type": "code",
   "execution_count": 74,
   "id": "5e2ff9c1",
   "metadata": {},
   "outputs": [
    {
     "data": {
      "text/plain": [
       "(1, 401)"
      ]
     },
     "execution_count": 74,
     "metadata": {},
     "output_type": "execute_result"
    }
   ],
   "source": [
    "# 初始化参数开始训练\n",
    "_lambda = 1\n",
    "# result = train(X, Y, theta, _lambda)\n",
    "gradient(theta[0, :], X, Y[:, 0], 1).shape"
   ]
  },
  {
   "cell_type": "code",
   "execution_count": null,
   "id": "9a304f3f",
   "metadata": {},
   "outputs": [],
   "source": []
  }
 ],
 "metadata": {
  "kernelspec": {
   "display_name": "Python 3 (ipykernel)",
   "language": "python",
   "name": "python3"
  },
  "language_info": {
   "codemirror_mode": {
    "name": "ipython",
    "version": 3
   },
   "file_extension": ".py",
   "mimetype": "text/x-python",
   "name": "python",
   "nbconvert_exporter": "python",
   "pygments_lexer": "ipython3",
   "version": "3.8.13"
  }
 },
 "nbformat": 4,
 "nbformat_minor": 5
}
