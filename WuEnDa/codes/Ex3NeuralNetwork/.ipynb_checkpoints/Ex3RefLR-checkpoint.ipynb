{
 "cells": [
  {
   "cell_type": "code",
   "execution_count": 1,
   "id": "6bb8ba70",
   "metadata": {},
   "outputs": [],
   "source": [
    "import numpy as np\n",
    "from scipy import optimize as opt\n",
    "import pandas as pd\n",
    "from scipy.io import loadmat"
   ]
  },
  {
   "cell_type": "code",
   "execution_count": 2,
   "id": "b4858a2c",
   "metadata": {},
   "outputs": [
    {
     "data": {
      "text/plain": [
       "{'__header__': b'MATLAB 5.0 MAT-file, Platform: GLNXA64, Created on: Sun Oct 16 13:09:09 2011',\n",
       " '__version__': '1.0',\n",
       " '__globals__': [],\n",
       " 'X': array([[0., 0., 0., ..., 0., 0., 0.],\n",
       "        [0., 0., 0., ..., 0., 0., 0.],\n",
       "        [0., 0., 0., ..., 0., 0., 0.],\n",
       "        ...,\n",
       "        [0., 0., 0., ..., 0., 0., 0.],\n",
       "        [0., 0., 0., ..., 0., 0., 0.],\n",
       "        [0., 0., 0., ..., 0., 0., 0.]]),\n",
       " 'y': array([[10],\n",
       "        [10],\n",
       "        [10],\n",
       "        ...,\n",
       "        [ 9],\n",
       "        [ 9],\n",
       "        [ 9]], dtype=uint8)}"
      ]
     },
     "execution_count": 2,
     "metadata": {},
     "output_type": "execute_result"
    }
   ],
   "source": [
    "data = loadmat('ex3data1.mat')\n",
    "data"
   ]
  },
  {
   "cell_type": "code",
   "execution_count": 4,
   "id": "54d1ce7d",
   "metadata": {},
   "outputs": [
    {
     "data": {
      "text/plain": [
       "(5000, 401)"
      ]
     },
     "execution_count": 4,
     "metadata": {},
     "output_type": "execute_result"
    }
   ],
   "source": [
    "X = np.matrix(data['X'])\n",
    "X = np.insert(X, 0, 1, axis=1)\n",
    "X.shape"
   ]
  },
  {
   "cell_type": "code",
   "execution_count": 5,
   "id": "f2b7ee29",
   "metadata": {},
   "outputs": [],
   "source": [
    "m = X.shape[0]\n",
    "n = X.shape[1]\n",
    "K = 10\n",
    "theta = np.matrix(np.zeros((K, n)))\n",
    "Y = np.matrix(np.zeros((m, K)))\n",
    "y = np.matrix(data['y'])"
   ]
  },
  {
   "cell_type": "code",
   "execution_count": 13,
   "id": "a5336364",
   "metadata": {},
   "outputs": [],
   "source": [
    "Y[:, 0] = np.matrix([1 if int(i)==10 else 0 for i in y]).T\n",
    "for i in range(1, K):\n",
    "    Y[:, i] = np.matrix([1 if int(j)==i else 0 for j in y]).T"
   ]
  },
  {
   "cell_type": "code",
   "execution_count": 14,
   "id": "db9bd0b2",
   "metadata": {},
   "outputs": [
    {
     "data": {
      "text/plain": [
       "((5000, 401), (5000, 10), (10, 401))"
      ]
     },
     "execution_count": 14,
     "metadata": {},
     "output_type": "execute_result"
    }
   ],
   "source": [
    "# 得到了X,Y,theta\n",
    "X.shape, Y.shape, theta.shape"
   ]
  },
  {
   "cell_type": "code",
   "execution_count": 15,
   "id": "9adc0551",
   "metadata": {},
   "outputs": [
    {
     "data": {
      "text/plain": [
       "0.693147180559947"
      ]
     },
     "execution_count": 15,
     "metadata": {},
     "output_type": "execute_result"
    }
   ],
   "source": [
    "def sigmoid(z):\n",
    "    return 1/(1+np.exp(-z))\n",
    "def costFunc(theta, X, y, _lambda):\n",
    "    theta = np.matrix(theta)\n",
    "    h_x = sigmoid(X*theta.T)\n",
    "    normal = (1/m)*float(-y.T*np.log(h_x)-(1-y.T)*np.log(1-h_x))\n",
    "    reg = (1/2*m)*float(theta*theta.T-theta[0,0]*theta[0,0]) # 注意不包括theta_0\n",
    "    return reg+normal\n",
    "costFunc(theta[0, :], X, Y[:, 0], 1)"
   ]
  },
  {
   "cell_type": "code",
   "execution_count": 18,
   "id": "60971734",
   "metadata": {},
   "outputs": [
    {
     "data": {
      "text/plain": [
       "0.0"
      ]
     },
     "execution_count": 18,
     "metadata": {},
     "output_type": "execute_result"
    }
   ],
   "source": [
    "aosdn = theta[0, :]\n",
    "aosdn[0,0]"
   ]
  },
  {
   "cell_type": "code",
   "execution_count": null,
   "id": "2e62adb8",
   "metadata": {},
   "outputs": [],
   "source": []
  }
 ],
 "metadata": {
  "kernelspec": {
   "display_name": "Python 3 (ipykernel)",
   "language": "python",
   "name": "python3"
  },
  "language_info": {
   "codemirror_mode": {
    "name": "ipython",
    "version": 3
   },
   "file_extension": ".py",
   "mimetype": "text/x-python",
   "name": "python",
   "nbconvert_exporter": "python",
   "pygments_lexer": "ipython3",
   "version": "3.8.13"
  }
 },
 "nbformat": 4,
 "nbformat_minor": 5
}
