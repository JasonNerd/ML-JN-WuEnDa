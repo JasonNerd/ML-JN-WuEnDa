{
 "cells": [
  {
   "cell_type": "code",
   "execution_count": 1,
   "id": "0c80e1dd",
   "metadata": {},
   "outputs": [],
   "source": [
    "import numpy as np\n",
    "from scipy import optimize as opt\n",
    "import pandas as pd\n",
    "from scipy.io import loadmat"
   ]
  },
  {
   "cell_type": "code",
   "execution_count": 2,
   "id": "c634f7cd",
   "metadata": {},
   "outputs": [
    {
     "data": {
      "text/plain": [
       "{'__header__': b'MATLAB 5.0 MAT-file, Platform: GLNXA64, Created on: Sun Oct 16 13:09:09 2011',\n",
       " '__version__': '1.0',\n",
       " '__globals__': [],\n",
       " 'X': array([[0., 0., 0., ..., 0., 0., 0.],\n",
       "        [0., 0., 0., ..., 0., 0., 0.],\n",
       "        [0., 0., 0., ..., 0., 0., 0.],\n",
       "        ...,\n",
       "        [0., 0., 0., ..., 0., 0., 0.],\n",
       "        [0., 0., 0., ..., 0., 0., 0.],\n",
       "        [0., 0., 0., ..., 0., 0., 0.]]),\n",
       " 'y': array([[10],\n",
       "        [10],\n",
       "        [10],\n",
       "        ...,\n",
       "        [ 9],\n",
       "        [ 9],\n",
       "        [ 9]], dtype=uint8)}"
      ]
     },
     "execution_count": 2,
     "metadata": {},
     "output_type": "execute_result"
    }
   ],
   "source": [
    "data = loadmat('ex3data1.mat')\n",
    "data"
   ]
  },
  {
   "cell_type": "code",
   "execution_count": 4,
   "id": "e872cc4b",
   "metadata": {},
   "outputs": [
    {
     "data": {
      "text/plain": [
       "(5000, 401)"
      ]
     },
     "execution_count": 4,
     "metadata": {},
     "output_type": "execute_result"
    }
   ],
   "source": [
    "X = np.matrix(data['X'])\n",
    "X = np.insert(X, 0, 1, axis=1)\n",
    "X.shape"
   ]
  },
  {
   "cell_type": "code",
   "execution_count": 5,
   "id": "1b064164",
   "metadata": {},
   "outputs": [],
   "source": [
    "m = X.shape[0]\n",
    "n = X.shape[1]\n",
    "K = 10\n",
    "theta = np.matrix(np.zeros((K, n)))\n",
    "Y = np.matrix(np.zeros((m, K)))\n",
    "y = np.matrix(data['y'])"
   ]
  },
  {
   "cell_type": "code",
   "execution_count": 13,
   "id": "540437fa",
   "metadata": {},
   "outputs": [],
   "source": [
    "Y[:, 0] = np.matrix([1 if int(i)==10 else 0 for i in y]).T\n",
    "for i in range(1, K):\n",
    "    Y[:, i] = np.matrix([1 if int(j)==i else 0 for j in y]).T"
   ]
  },
  {
   "cell_type": "code",
   "execution_count": 14,
   "id": "181481e2",
   "metadata": {},
   "outputs": [
    {
     "data": {
      "text/plain": [
       "((5000, 401), (5000, 10), (10, 401))"
      ]
     },
     "execution_count": 14,
     "metadata": {},
     "output_type": "execute_result"
    }
   ],
   "source": [
    "# 得到了X,Y,theta\n",
    "X.shape, Y.shape, theta.shape"
   ]
  },
  {
   "cell_type": "code",
   "execution_count": 15,
   "id": "0ec7fe41",
   "metadata": {},
   "outputs": [
    {
     "data": {
      "text/plain": [
       "0.693147180559947"
      ]
     },
     "execution_count": 15,
     "metadata": {},
     "output_type": "execute_result"
    }
   ],
   "source": [
    "def sigmoid(z):\n",
    "    return 1/(1+np.exp(-z))\n",
    "def costFunc(theta, X, y, _lambda):\n",
    "    theta = np.matrix(theta)\n",
    "    h_x = sigmoid(X*theta.T)\n",
    "    normal = (1/m)*float(-y.T*np.log(h_x)-(1-y.T)*np.log(1-h_x))\n",
    "    reg = (1/2*m)*float(theta*theta.T-theta[0,0]*theta[0,0]) # 注意不包括theta_0\n",
    "    return reg+normal\n",
    "costFunc(theta[0, :], X, Y[:, 0], 1)"
   ]
  },
  {
   "cell_type": "code",
   "execution_count": 20,
   "id": "33a1e53b",
   "metadata": {},
   "outputs": [
    {
     "data": {
      "text/plain": [
       "(1, 401)"
      ]
     },
     "execution_count": 20,
     "metadata": {},
     "output_type": "execute_result"
    }
   ],
   "source": [
    "def gradient(theta, X, y, _lambda):\n",
    "    theta = np.matrix(theta)\n",
    "    h_x = sigmoid(X*theta.T)\n",
    "    err = h_x-y\n",
    "    norm = (X.T*err).T/m\n",
    "    reg = (_lambda*theta)/m\n",
    "    reg[0, 0] = 0 # 注意不包括theta_0\n",
    "    return norm+reg\n",
    "gradient(theta[0, :], X, Y[:, 0], 1).shape"
   ]
  },
  {
   "cell_type": "code",
   "execution_count": 23,
   "id": "b15d78e3",
   "metadata": {},
   "outputs": [],
   "source": [
    "# 使用theta, X, y, _lambda进行训练\n",
    "def oneVSrest(theta, X, Y, _lambda):\n",
    "    for i in range(K):\n",
    "        theta_i = theta[i, :]\n",
    "        y_i = Y[:, i]\n",
    "        res = opt.minimize(fun=costFunc, \n",
    "                           x0=theta_i, \n",
    "                           args=(X, y_i, _lambda) , \n",
    "                           jac=gradient, \n",
    "                           method=\"TNC\")\n",
    "        theta[i, :] = np.matrix(res.x)\n",
    "    return theta"
   ]
  },
  {
   "cell_type": "code",
   "execution_count": 24,
   "id": "5cece956",
   "metadata": {},
   "outputs": [
    {
     "name": "stderr",
     "output_type": "stream",
     "text": [
      "C:\\Users\\RefrainKruso\\AppData\\Local\\Temp\\ipykernel_15936\\2806270157.py:6: DeprecationWarning: Use of `minimize` with `x0.ndim != 1` is deprecated. Currently, singleton dimensions will be removed from `x0`, but an error will be raised in SciPy 1.11.0.\n",
      "  res = opt.minimize(fun=costFunc,\n"
     ]
    },
    {
     "data": {
      "text/plain": [
       "(10, 401)"
      ]
     },
     "execution_count": 24,
     "metadata": {},
     "output_type": "execute_result"
    }
   ],
   "source": [
    "_lambda = 1\n",
    "res_theta = oneVSrest(theta, X, Y, _lambda)\n",
    "res_theta.shape"
   ]
  },
  {
   "cell_type": "code",
   "execution_count": 30,
   "id": "619ce364",
   "metadata": {},
   "outputs": [],
   "source": [
    "# 利用res_theta进行分类\n",
    "def classify(img, theta):\n",
    "    img = np.matrix(np.reshape(img, (1, 400)))\n",
    "    img = np.insert(img, 0, 1, axis=1)\n",
    "    res = []\n",
    "    for i in range(K):\n",
    "        res.append(float(sigmoid(img*theta[i,:].T)))\n",
    "    return res.index(max(res))"
   ]
  },
  {
   "cell_type": "code",
   "execution_count": 31,
   "id": "63e7862d",
   "metadata": {},
   "outputs": [
    {
     "name": "stdout",
     "output_type": "stream",
     "text": [
      "accuracy=75.5%\n"
     ]
    }
   ],
   "source": [
    "# 计算准确率\n",
    "acc = 0\n",
    "for i in range(m):\n",
    "    img_i = X[i, 1:]\n",
    "    prd = classify(img_i, theta)\n",
    "    if Y[i, prd]==1:\n",
    "        acc = acc + 1\n",
    "print(\"accuracy=\"+str(acc*100/m)+\"%\")    "
   ]
  },
  {
   "cell_type": "code",
   "execution_count": null,
   "id": "c2f6391b",
   "metadata": {},
   "outputs": [],
   "source": []
  }
 ],
 "metadata": {
  "kernelspec": {
   "display_name": "Python 3 (ipykernel)",
   "language": "python",
   "name": "python3"
  },
  "language_info": {
   "codemirror_mode": {
    "name": "ipython",
    "version": 3
   },
   "file_extension": ".py",
   "mimetype": "text/x-python",
   "name": "python",
   "nbconvert_exporter": "python",
   "pygments_lexer": "ipython3",
   "version": "3.8.13"
  }
 },
 "nbformat": 4,
 "nbformat_minor": 5
}
