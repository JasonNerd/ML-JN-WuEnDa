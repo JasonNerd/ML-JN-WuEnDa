{
 "cells": [
  {
   "cell_type": "markdown",
   "id": "a058dfcb",
   "metadata": {},
   "source": [
    "# 多分类问题\n",
    "使用对率回归模型解决多分类问题\n",
    "1. one-VS-rest(OvR)\n",
    "    假设有K个类别，则需要训练K个二分类器，例如针对第k个类别的训练，则把其他类均视为负类\n",
    "2. one-VS-one(OvO)\n",
    "    把每一个类拿出来，两两配对，需要训练$\\frac{(K-1)K}{2}$个二分类器"
   ]
  },
  {
   "cell_type": "markdown",
   "id": "7ead38ad",
   "metadata": {},
   "source": [
    "* 实验数据是5000张20$\\times$20的灰度图像，则每一张图像是一个400维的向量，也即特征数量是400个，数据集包含5000个样本。灰度图像是手写数字，也即一个10个类别（从0到9）。\n",
    "* 数据存放在.mat文件也即matlab本地文件格式，需要使用scipy包，另外可以将向量转为图像看一下"
   ]
  },
  {
   "cell_type": "code",
   "execution_count": 2,
   "id": "d18d3f41",
   "metadata": {},
   "outputs": [],
   "source": [
    "import numpy as np\n",
    "import pandas as pd\n",
    "import matplotlib.pyplot as plt\n",
    "from scipy.io import loadmat"
   ]
  },
  {
   "cell_type": "code",
   "execution_count": 3,
   "id": "0d08efb7",
   "metadata": {},
   "outputs": [
    {
     "data": {
      "text/plain": [
       "{'__header__': b'MATLAB 5.0 MAT-file, Platform: GLNXA64, Created on: Sun Oct 16 13:09:09 2011',\n",
       " '__version__': '1.0',\n",
       " '__globals__': [],\n",
       " 'X': array([[0., 0., 0., ..., 0., 0., 0.],\n",
       "        [0., 0., 0., ..., 0., 0., 0.],\n",
       "        [0., 0., 0., ..., 0., 0., 0.],\n",
       "        ...,\n",
       "        [0., 0., 0., ..., 0., 0., 0.],\n",
       "        [0., 0., 0., ..., 0., 0., 0.],\n",
       "        [0., 0., 0., ..., 0., 0., 0.]]),\n",
       " 'y': array([[10],\n",
       "        [10],\n",
       "        [10],\n",
       "        ...,\n",
       "        [ 9],\n",
       "        [ 9],\n",
       "        [ 9]], dtype=uint8)}"
      ]
     },
     "execution_count": 3,
     "metadata": {},
     "output_type": "execute_result"
    }
   ],
   "source": [
    "data = loadmat('ex3data1.mat')\n",
    "data"
   ]
  },
  {
   "cell_type": "code",
   "execution_count": 4,
   "id": "3ec1ca63",
   "metadata": {},
   "outputs": [
    {
     "data": {
      "text/plain": [
       "dict"
      ]
     },
     "execution_count": 4,
     "metadata": {},
     "output_type": "execute_result"
    }
   ],
   "source": [
    "type(data)"
   ]
  },
  {
   "cell_type": "code",
   "execution_count": 5,
   "id": "11e383a2",
   "metadata": {},
   "outputs": [
    {
     "data": {
      "text/plain": [
       "((5000, 400), (5000, 1))"
      ]
     },
     "execution_count": 5,
     "metadata": {},
     "output_type": "execute_result"
    }
   ],
   "source": [
    "X = data['X']\n",
    "y = data['y']\n",
    "X.shape, y.shape"
   ]
  },
  {
   "cell_type": "code",
   "execution_count": 9,
   "id": "da54c013",
   "metadata": {},
   "outputs": [
    {
     "data": {
      "text/plain": [
       "<matplotlib.image.AxesImage at 0x26f678ce400>"
      ]
     },
     "execution_count": 9,
     "metadata": {},
     "output_type": "execute_result"
    },
    {
     "data": {
      "image/png": "[encoded data removed]",
      "text/plain": [
       "<Figure size 640x480 with 1 Axes>"
      ]
     },
     "metadata": {},
     "output_type": "display_data"
    }
   ],
   "source": [
    "# 将X[0]转为灰度图进行查看\n",
    "img = np.reshape(X[0, :], (20, 20))\n",
    "plt.imshow(img)"
   ]
  },
  {
   "cell_type": "code",
   "execution_count": 14,
   "id": "2694d66f",
   "metadata": {},
   "outputs": [
    {
     "data": {
      "text/plain": [
       "(5000, 401)"
      ]
     },
     "execution_count": 14,
     "metadata": {},
     "output_type": "execute_result"
    }
   ],
   "source": [
    "# one-vs-rest, X本身是需要插入1的这不会变, 但y需要变一下\n",
    "K = 10 # 输出类别数目\n",
    "m = len(y) # 数据集大小\n",
    "n = X.shape[1] # 特征的数目\n",
    "X = np.matrix(np.insert(X, 0, 1, axis=1)) # 这种insert可以反复多次, 因此注意仅执行一次\n",
    "# X = np.delete(X, 0, axis=1)\n",
    "X.shape"
   ]
  },
  {
   "cell_type": "code",
   "execution_count": 32,
   "id": "b545da3f",
   "metadata": {},
   "outputs": [
    {
     "data": {
      "text/plain": [
       "500.0"
      ]
     },
     "execution_count": 32,
     "metadata": {},
     "output_type": "execute_result"
    }
   ],
   "source": [
    "Y = np.matrix(np.zeros((m, K)))\n",
    "Y[:, 0] = np.matrix([1 if int(i)==10 else 0 for i in y]).T\n",
    "np.sum(Y[:, 0]) # 可见一共有500个0"
   ]
  },
  {
   "cell_type": "code",
   "execution_count": 37,
   "id": "2b4ed18d",
   "metadata": {},
   "outputs": [],
   "source": [
    "# 接下来是1到9\n",
    "for i in range(1, K):\n",
    "    Y[:, i] = np.matrix([1 if int(j)==i else 0 for j in y]).T\n",
    "# np.sum(Y[:, i]) == 500 (for i=0 to 9)"
   ]
  },
  {
   "cell_type": "code",
   "execution_count": 44,
   "id": "53e740c8",
   "metadata": {},
   "outputs": [
    {
     "data": {
      "text/plain": [
       "((5000, 401), (5000, 10), (10, 401))"
      ]
     },
     "execution_count": 44,
     "metadata": {},
     "output_type": "execute_result"
    }
   ],
   "source": [
    "# 书写函数\n",
    "# sigmoid\n",
    "def sigmoid(z):\n",
    "    return 1/(1+np.exp(-z))\n",
    "theta = np.matrix(np.zeros((K, X.shape[1])))\n",
    "X.shape, Y.shape, theta.shape"
   ]
  },
  {
   "cell_type": "code",
   "execution_count": 64,
   "id": "761126cb",
   "metadata": {},
   "outputs": [
    {
     "data": {
      "text/plain": [
       "0.693147180559947"
      ]
     },
     "execution_count": 64,
     "metadata": {},
     "output_type": "execute_result"
    }
   ],
   "source": [
    "# costFunc\n",
    "def costFunc(theta, X, y, _lambda):\n",
    "    theta = np.matrix(theta)\n",
    "    h_x = sigmoid(X*theta.T)\n",
    "    normal = (1/m)*float(-y.T*np.log(h_x)-(1-y.T)*np.log(1-h_x))\n",
    "    reg = (_lambda/2*m)*float(theta*theta.T)\n",
    "    return normal+reg\n",
    "costFunc(theta[0, :], X, Y[:, 0], 1)"
   ]
  },
  {
   "cell_type": "code",
   "execution_count": 65,
   "id": "07bf86a6",
   "metadata": {},
   "outputs": [],
   "source": [
    "def gradient(theta, X, y, _lambda):\n",
    "    theta = np.matrix(theta)\n",
    "    h_x = sigmoid(X*theta.T)\n",
    "    err = h_x-y\n",
    "    d_reg = _lambda*theta.T\n",
    "    d_reg[0]=0\n",
    "    return (X.T*err+d_reg).T/m\n",
    "# t_theta = np.matrix(np.ones(X.shape[1]))\n",
    "# gradient(t_theta, X, Y[:, 0], 0.8)"
   ]
  },
  {
   "cell_type": "code",
   "execution_count": 71,
   "id": "02c90042",
   "metadata": {},
   "outputs": [],
   "source": [
    "from scipy import optimize as opt\n",
    "def train(X, Y, theta, _lambda):\n",
    "    res = []\n",
    "    for i in range(K):\n",
    "        thetai = theta[i, :]\n",
    "        yi = Y[:, i]\n",
    "        res.append(opt.fmin_tnc(\n",
    "            func=costFunc, \n",
    "            fprime=gradient, \n",
    "            x0=thetai, \n",
    "            args=(X, yi, _lambda)\n",
    "        ))\n",
    "    return res"
   ]
  },
  {
   "cell_type": "code",
   "execution_count": 75,
   "id": "76b6c6a1",
   "metadata": {},
   "outputs": [],
   "source": [
    "# 初始化参数开始训练\n",
    "_lambda = 1\n",
    "result = train(X, Y, theta, _lambda)"
   ]
  },
  {
   "cell_type": "code",
   "execution_count": 80,
   "id": "98c0df26",
   "metadata": {},
   "outputs": [
    {
     "data": {
      "text/plain": [
       "(1, 401)"
      ]
     },
     "execution_count": 80,
     "metadata": {},
     "output_type": "execute_result"
    }
   ],
   "source": [
    "# 得到10个分类器\n",
    "np.matrix(result[0][0]).shape"
   ]
  },
  {
   "cell_type": "code",
   "execution_count": 105,
   "id": "7ea87f32",
   "metadata": {},
   "outputs": [],
   "source": [
    "# 一个判断20X20灰度图像数字的分类器\n",
    "def digit_classifier(img_arr, result):\n",
    "    img_arr = np.matrix(np.reshape(img_arr, (1, 400)))\n",
    "    img_arr = np.insert(img_arr, 0, 1, axis=1)\n",
    "    prd = []\n",
    "    for i in range(K):\n",
    "        theta = np.matrix(result[i][0])\n",
    "        prd.append(float(sigmoid(img_arr*theta.T)))\n",
    "    return prd.index(max(prd))"
   ]
  },
  {
   "cell_type": "code",
   "execution_count": 84,
   "id": "0e1c110e",
   "metadata": {},
   "outputs": [],
   "source": [
    "# 将result存起来\n",
    "store_res = {}\n",
    "for i in range(K):\n",
    "    store_res['theta'+str(i)]=result[i][0].tolist()\n",
    "pd.DataFrame(store_res).to_csv('theta_OvR.csv', index=False)"
   ]
  },
  {
   "cell_type": "code",
   "execution_count": 106,
   "id": "3133df3a",
   "metadata": {},
   "outputs": [
    {
     "data": {
      "text/plain": [
       "9"
      ]
     },
     "execution_count": 106,
     "metadata": {},
     "output_type": "execute_result"
    }
   ],
   "source": [
    "# 尝试一些图案\n",
    "tk = 4700\n",
    "img1 = X[tk, 1:] \n",
    "digit_classifier(img1, result)"
   ]
  },
  {
   "cell_type": "code",
   "execution_count": 104,
   "id": "16db87b6",
   "metadata": {},
   "outputs": [
    {
     "data": {
      "text/plain": [
       "<matplotlib.image.AxesImage at 0x26f700d4c40>"
      ]
     },
     "execution_count": 104,
     "metadata": {},
     "output_type": "execute_result"
    },
    {
     "data": {
      "image/png": "[encoded data removed]",
      "text/plain": [
       "<Figure size 640x480 with 1 Axes>"
      ]
     },
     "metadata": {},
     "output_type": "display_data"
    }
   ],
   "source": [
    "plt.imshow(np.reshape(img1, (20, 20)))"
   ]
  },
  {
   "cell_type": "code",
   "execution_count": 112,
   "id": "78716240",
   "metadata": {},
   "outputs": [
    {
     "data": {
      "text/plain": [
       "3775"
      ]
     },
     "execution_count": 112,
     "metadata": {},
     "output_type": "execute_result"
    }
   ],
   "source": [
    "# 测了几张，还挺准的哈，看在训练集上的准确率\n",
    "is_ok = 0\n",
    "for i in range(m):\n",
    "    img_arr = X[i, 1:]\n",
    "    prd = digit_classifier(img_arr, result)\n",
    "    if(Y[i, prd]==1):\n",
    "        is_ok = is_ok+1\n",
    "is_ok"
   ]
  },
  {
   "cell_type": "code",
   "execution_count": 113,
   "id": "5dcd6cb9",
   "metadata": {},
   "outputs": [
    {
     "name": "stdout",
     "output_type": "stream",
     "text": [
      "75.5%\n"
     ]
    }
   ],
   "source": [
    "print(str(is_ok*100/m)+\"%\")"
   ]
  },
  {
   "cell_type": "code",
   "execution_count": null,
   "id": "5f90ed54",
   "metadata": {},
   "outputs": [],
   "source": []
  }
 ],
 "metadata": {
  "kernelspec": {
   "display_name": "Python 3 (ipykernel)",
   "language": "python",
   "name": "python3"
  },
  "language_info": {
   "codemirror_mode": {
    "name": "ipython",
    "version": 3
   },
   "file_extension": ".py",
   "mimetype": "text/x-python",
   "name": "python",
   "nbconvert_exporter": "python",
   "pygments_lexer": "ipython3",
   "version": "3.8.13"
  }
 },
 "nbformat": 4,
 "nbformat_minor": 5
}
