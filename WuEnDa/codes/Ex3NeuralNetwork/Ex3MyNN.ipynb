{
 "cells": [
  {
   "cell_type": "markdown",
   "id": "47cf5223",
   "metadata": {},
   "source": [
    "# 多分类问题\n",
    "使用对率回归模型解决多分类问题\n",
    "1. one-VS-rest(OvR)\n",
    "    假设有K个类别，则需要训练K个二分类器，例如针对第k个类别的训练，则把其他类均视为负类\n",
    "2. one-VS-one(OvO)\n",
    "    把每一个类拿出来，两两配对，需要训练$\\frac{(K-1)K}{2}$个二分类器"
   ]
  },
  {
   "cell_type": "markdown",
   "id": "c2d36140",
   "metadata": {},
   "source": [
    "* 实验数据是5000张20$\\times$20的灰度图像，则每一张图像是一个400维的向量，也即特征数量是400个，数据集包含5000个样本。灰度图像是手写数字，也即一个10个类别（从0到9）。\n",
    "* 数据存放在.mat文件也即matlab本地文件格式，需要使用scipy包，另外可以将向量转为图像看一下"
   ]
  },
  {
   "cell_type": "code",
   "execution_count": 1,
   "id": "6368ca47",
   "metadata": {},
   "outputs": [],
   "source": [
    "impor"
   ]
  }
 ],
 "metadata": {
  "kernelspec": {
   "display_name": "Python 3 (ipykernel)",
   "language": "python",
   "name": "python3"
  },
  "language_info": {
   "codemirror_mode": {
    "name": "ipython",
    "version": 3
   },
   "file_extension": ".py",
   "mimetype": "text/x-python",
   "name": "python",
   "nbconvert_exporter": "python",
   "pygments_lexer": "ipython3",
   "version": "3.8.13"
  }
 },
 "nbformat": 4,
 "nbformat_minor": 5
}
