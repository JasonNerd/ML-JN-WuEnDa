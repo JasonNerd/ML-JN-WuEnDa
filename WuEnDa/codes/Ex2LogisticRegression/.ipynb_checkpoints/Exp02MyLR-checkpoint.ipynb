{
 "cells": [
  {
   "cell_type": "code",
   "execution_count": 3,
   "id": "74e867e5",
   "metadata": {},
   "outputs": [],
   "source": [
    "import pandas as pd\n",
    "import numpy as np\n",
    "from matplotlib import pyplot as plt"
   ]
  },
  {
   "cell_type": "code",
   "execution_count": 8,
   "id": "dcd38619",
   "metadata": {},
   "outputs": [],
   "source": [
    "# 1. read data and visualize it\n",
    "data = pd.read_csv('ex2data1.txt', header=None, names=['ExamA', 'ExamB', 'Admitted'])\n",
    "# data.info() # 100rows"
   ]
  },
  {
   "cell_type": "code",
   "execution_count": 10,
   "id": "7106fb07",
   "metadata": {},
   "outputs": [
    {
     "data": {
      "image/png": "[encoded data removed]",
      "text/plain": [
       "<Figure size 640x480 with 1 Axes>"
      ]
     },
     "metadata": {},
     "output_type": "display_data"
    }
   ],
   "source": [
    "for i, fs in data.iterrows():\n",
    "    if fs['Admitted'] == 0:\n",
    "        plt.plot(fs['ExamA'], fs['ExamB'], c='red', marker='x')\n",
    "    else:\n",
    "        plt.plot(fs['ExamA'], fs['ExamB'], c='blue', marker='.')\n",
    "plt.show()"
   ]
  },
  {
   "cell_type": "code",
   "execution_count": 14,
   "id": "a34572ee",
   "metadata": {},
   "outputs": [
    {
     "data": {
      "text/plain": [
       "0.5"
      ]
     },
     "execution_count": 14,
     "metadata": {},
     "output_type": "execute_result"
    }
   ],
   "source": [
    "# 这两个数据的范围都是0-100, 因此不需要 特征缩放\n",
    "# 1. sigmoid\n",
    "def sigmoid(x):\n",
    "    return 1/(1+np.exp(-x))\n",
    "sigmoid(0)"
   ]
  },
  {
   "cell_type": "code",
   "execution_count": 57,
   "id": "3c58b960",
   "metadata": {},
   "outputs": [
    {
     "data": {
      "text/html": [
       "<div>\n",
       "<style scoped>\n",
       "    .dataframe tbody tr th:only-of-type {\n",
       "        vertical-align: middle;\n",
       "    }\n",
       "\n",
       "    .dataframe tbody tr th {\n",
       "        vertical-align: top;\n",
       "    }\n",
       "\n",
       "    .dataframe thead th {\n",
       "        text-align: right;\n",
       "    }\n",
       "</style>\n",
       "<table border=\"1\" class=\"dataframe\">\n",
       "  <thead>\n",
       "    <tr style=\"text-align: right;\">\n",
       "      <th></th>\n",
       "      <th>Ones</th>\n",
       "      <th>ExamA</th>\n",
       "      <th>ExamB</th>\n",
       "      <th>Admitted</th>\n",
       "    </tr>\n",
       "  </thead>\n",
       "  <tbody>\n",
       "    <tr>\n",
       "      <th>0</th>\n",
       "      <td>1</td>\n",
       "      <td>34.623660</td>\n",
       "      <td>78.024693</td>\n",
       "      <td>0</td>\n",
       "    </tr>\n",
       "    <tr>\n",
       "      <th>1</th>\n",
       "      <td>1</td>\n",
       "      <td>30.286711</td>\n",
       "      <td>43.894998</td>\n",
       "      <td>0</td>\n",
       "    </tr>\n",
       "    <tr>\n",
       "      <th>2</th>\n",
       "      <td>1</td>\n",
       "      <td>35.847409</td>\n",
       "      <td>72.902198</td>\n",
       "      <td>0</td>\n",
       "    </tr>\n",
       "    <tr>\n",
       "      <th>3</th>\n",
       "      <td>1</td>\n",
       "      <td>60.182599</td>\n",
       "      <td>86.308552</td>\n",
       "      <td>1</td>\n",
       "    </tr>\n",
       "    <tr>\n",
       "      <th>4</th>\n",
       "      <td>1</td>\n",
       "      <td>79.032736</td>\n",
       "      <td>75.344376</td>\n",
       "      <td>1</td>\n",
       "    </tr>\n",
       "  </tbody>\n",
       "</table>\n",
       "</div>"
      ],
      "text/plain": [
       "   Ones      ExamA      ExamB  Admitted\n",
       "0     1  34.623660  78.024693         0\n",
       "1     1  30.286711  43.894998         0\n",
       "2     1  35.847409  72.902198         0\n",
       "3     1  60.182599  86.308552         1\n",
       "4     1  79.032736  75.344376         1"
      ]
     },
     "execution_count": 57,
     "metadata": {},
     "output_type": "execute_result"
    }
   ],
   "source": [
    "# 2. 划分X, y, theta\n",
    "n = data.shape[1]\n",
    "data.(0, 'Ones', 1)"
   ]
  },
  {
   "cell_type": "code",
   "execution_count": 81,
   "id": "58bd749c",
   "metadata": {},
   "outputs": [
    {
     "data": {
      "text/plain": [
       "((100, 3), (100, 1), (1, 3))"
      ]
     },
     "execution_count": 81,
     "metadata": {},
     "output_type": "execute_result"
    }
   ],
   "source": [
    "X = np.matrix(data.iloc[:, 0:n-1])\n",
    "y = np.matrix(data.iloc[:, n-1:n])\n",
    "theta = np.matrix(np.zeros(n-1))\n",
    "X.shape, y.shape, theta.shape"
   ]
  },
  {
   "cell_type": "code",
   "execution_count": 82,
   "id": "490d335a",
   "metadata": {},
   "outputs": [
    {
     "data": {
      "text/plain": [
       "0.6931471805599453"
      ]
     },
     "execution_count": 82,
     "metadata": {},
     "output_type": "execute_result"
    }
   ],
   "source": [
    "# 定义代价函数\n",
    "def costFunc(X, y, theta):\n",
    "    m = len(y)\n",
    "    h_x = sigmoid(X*theta.T)\n",
    "    return float((-y.T*np.log(h_x)-(1-y.T)*np.log(1-h_x))/m)\n",
    "costFunc(X, y, theta)"
   ]
  },
  {
   "cell_type": "code",
   "execution_count": 94,
   "id": "bbf24bb0",
   "metadata": {},
   "outputs": [],
   "source": [
    "# 定义梯度下降函数\n",
    "def gradientDescent(X, y, theta, iter_n, alpha):\n",
    "    cost = np.zeros(iter_n)\n",
    "    m = len(y)\n",
    "    for i in range(iter_n):\n",
    "        err = sigmoid(X*theta.T) - y\n",
    "        delta = X.T*err/m\n",
    "        cost[i] = costFunc(X, y, theta)\n",
    "        theta = theta - alpha*delta.T\n",
    "    return theta, cost"
   ]
  },
  {
   "cell_type": "code",
   "execution_count": 95,
   "id": "876c9cee",
   "metadata": {},
   "outputs": [
    {
     "name": "stderr",
     "output_type": "stream",
     "text": [
      "C:\\Users\\RefrainKruso\\AppData\\Local\\Temp\\ipykernel_20816\\2109245899.py:5: RuntimeWarning: divide by zero encountered in log\n",
      "  return float((-y.T*np.log(h_x)-(1-y.T)*np.log(1-h_x))/m)\n"
     ]
    },
    {
     "ename": "NameError",
     "evalue": "name 'plot' is not defined",
     "output_type": "error",
     "traceback": [
      "\u001b[1;31m---------------------------------------------------------------------------\u001b[0m",
      "\u001b[1;31mNameError\u001b[0m                                 Traceback (most recent call last)",
      "Cell \u001b[1;32mIn [95], line 5\u001b[0m\n\u001b[0;32m      3\u001b[0m theta \u001b[38;5;241m=\u001b[39m np\u001b[38;5;241m.\u001b[39mmatrix([\u001b[38;5;241m0\u001b[39m, \u001b[38;5;241m0\u001b[39m, \u001b[38;5;241m0\u001b[39m])\n\u001b[0;32m      4\u001b[0m theta, cost \u001b[38;5;241m=\u001b[39m gradientDescent(X, y, theta, iter_n, alpha)\n\u001b[1;32m----> 5\u001b[0m plt,\u001b[43mplot\u001b[49m(\u001b[38;5;28mrange\u001b[39m(iter_n), cost)\n",
      "\u001b[1;31mNameError\u001b[0m: name 'plot' is not defined"
     ]
    }
   ],
   "source": [
    "alpha = 0.01\n",
    "iter_n = 1000\n",
    "theta = np.matrix([0, 0, 0])\n",
    "theta, cost = gradientDescent(X, y, theta, iter_n, alpha)\n",
    "plt.plot(range(iter_n), cost)"
   ]
  },
  {
   "cell_type": "code",
   "execution_count": 92,
   "id": "d27982ea",
   "metadata": {},
   "outputs": [
    {
     "data": {
      "text/plain": [
       "[<matplotlib.lines.Line2D at 0x212fce5f040>]"
      ]
     },
     "execution_count": 92,
     "metadata": {},
     "output_type": "execute_result"
    },
    {
     "data": {
      "image/png": "[encoded data removed]",
      "text/plain": [
       "<Figure size 640x480 with 1 Axes>"
      ]
     },
     "metadata": {},
     "output_type": "display_data"
    }
   ],
   "source": [
    "x = np.linspace(data['ExamA'].min(), data['ExamA'].max(), 100)\n",
    "f = (-float(theta[:, 0])-float(theta[:, 1])*x)/float(theta[:, 2])\n",
    "for i, fs in data.iterrows():\n",
    "    if fs['Admitted'] == 0:\n",
    "        plt.plot(fs['ExamA'], fs['ExamB'], c='red', marker='x')\n",
    "    else:\n",
    "        plt.plot(fs['ExamA'], fs['ExamB'], c='blue', marker='.')\n",
    "plt.plot(x, f)"
   ]
  },
  {
   "cell_type": "code",
   "execution_count": 93,
   "id": "236d8272",
   "metadata": {},
   "outputs": [
    {
     "data": {
      "text/plain": [
       "matrix([[ -0.1       ],\n",
       "        [-12.00921659],\n",
       "        [-11.26284221]])"
      ]
     },
     "execution_count": 93,
     "metadata": {},
     "output_type": "execute_result"
    }
   ],
   "source": [
    "# something wrong hanppend\n",
    "theta = np.matrix([0, 0, 0])\n",
    "def gradient(X, y, theta):\n",
    "    m = len(y)\n",
    "    h_x = sigmoid(X*theta.T)\n",
    "    err = h_x-y\n",
    "    return X.T*err/m\n",
    "gradient(X,y,theta)\n",
    "# so here we got it, divide m"
   ]
  },
  {
   "cell_type": "code",
   "execution_count": null,
   "id": "cf3ae367",
   "metadata": {},
   "outputs": [],
   "source": []
  }
 ],
 "metadata": {
  "kernelspec": {
   "display_name": "Python 3 (ipykernel)",
   "language": "python",
   "name": "python3"
  },
  "language_info": {
   "codemirror_mode": {
    "name": "ipython",
    "version": 3
   },
   "file_extension": ".py",
   "mimetype": "text/x-python",
   "name": "python",
   "nbconvert_exporter": "python",
   "pygments_lexer": "ipython3",
   "version": "3.8.13"
  }
 },
 "nbformat": 4,
 "nbformat_minor": 5
}
